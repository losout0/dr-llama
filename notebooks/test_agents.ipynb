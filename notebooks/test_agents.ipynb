{
 "cells": [
  {
   "cell_type": "markdown",
   "id": "2086739f",
   "metadata": {},
   "source": [
    "## **Testando os agentes de recuperação de documentos e geração de texto**"
   ]
  },
  {
   "cell_type": "markdown",
   "id": "2693d60a",
   "metadata": {},
   "source": [
    "### Importações necessárias"
   ]
  },
  {
   "cell_type": "code",
   "execution_count": 1,
   "id": "ca3d512c",
   "metadata": {},
   "outputs": [
    {
     "name": "stdout",
     "output_type": "stream",
     "text": [
      "Iniciando: importando as bibliotecas e instanciando os agentes...\n"
     ]
    }
   ],
   "source": [
    "import sys\n",
    "import os\n",
    "\n",
    "from typing import List, TypedDict, Literal\n",
    "from langchain_core.documents import Document\n",
    "from langgraph.graph import StateGraph, END\n",
    "\n",
    "sys.path.append(os.path.abspath(os.path.join(os.getcwd(), \"..\")))\n",
    "from src import expand_query, retriever_agent, generate_answer, check_faithfulness, FaithfulnessCheck"
   ]
  },
  {
   "cell_type": "markdown",
   "id": "7d409cb4",
   "metadata": {},
   "source": [
    "### Convertendo o prompt em \"juridiquês\" (Query Expander)"
   ]
  },
  {
   "cell_type": "code",
   "execution_count": 2,
   "id": "208edbd5",
   "metadata": {},
   "outputs": [
    {
     "name": "stdout",
     "output_type": "stream",
     "text": [
      "--- CONSULTAS EXPANDIDAS: ['Me fale sobre venda condicionada', 'venda casada no código do consumidor', 'proibição de venda condicionada lei', 'o que é venda condicionada no código do consumidor', 'venda condicionada lei brasileira', 'venda casada equivalente jurídico'] ---\n",
      "['Me fale sobre venda condicionada', 'venda casada no código do consumidor', 'proibição de venda condicionada lei', 'o que é venda condicionada no código do consumidor', 'venda condicionada lei brasileira', 'venda casada equivalente jurídico']\n"
     ]
    }
   ],
   "source": [
    "prompt = \"Me fale sobre venda casada\"\n",
    "queries = expand_query(prompt)\n",
    "\n",
    "print(queries)"
   ]
  },
  {
   "cell_type": "markdown",
   "id": "6e883e13",
   "metadata": {},
   "source": [
    "### Recuperando documentos a partir de um prompt"
   ]
  },
  {
   "cell_type": "code",
   "execution_count": 3,
   "id": "ce85f1a1",
   "metadata": {},
   "outputs": [
    {
     "name": "stdout",
     "output_type": "stream",
     "text": [
      "[Document(id='15ed6b2f-8f6c-4c7e-bf43-e2d668d76229', metadata={'producer': 'Adobe PDF Library 17.0', 'creator': 'Adobe InDesign 19.5 (Windows)', 'creationdate': '2025-04-01T09:42:42-03:00', 'author': 'Senado Federal', 'moddate': '2025-04-01T09:54:25-03:00', 'title': 'Constituição da República Federativa do Brasil', 'trapped': '/False', 'source': 'constituicao_federal.pdf', 'total_pages': 189, 'page': 94, 'page_label': '95', 'pretty_name': 'Constituição Federal'}, page_content='total ou parcialmente, nas condições e limites fixados \\nem lei.\\n§ 2o À contribuição de que trata este artigo não se \\naplica o disposto nos arts.\\xa0153, §\\xa05 o, e 154, I, da Cons-\\ntituição.\\n§ 3o O produto da arrecadação da contribuição de \\nque trata este artigo será destinado integralmente ao \\nFundo Nacional de Saúde, para financiamento das ações \\ne serviços de saúde.\\n§ 4o A contribuição de que trata este artigo terá sua \\nexigibilidade subordinada ao disposto no art.\\xa0195, §\\xa06o, \\nda Constituição, e não poderá ser cobrada por prazo \\nsuperior a dois anos.\\nArt. 75. É prorrogada, por trinta e seis meses, a \\ncobrança da contribuição provisória sobre movimen -\\ntação ou transmissão de valores e de créditos e direitos de \\nnatureza financeira de que trata o art.\\xa074, instituída pela \\nLei no\\xa09.311, de 24 de outubro de 1996, modificada pela \\nLei no\\xa09.539, de 12 de dezembro de 1997, cuja vigência \\né também prorrogada por idêntico prazo.\\n§ 1o Observado o disposto no §\\xa06 o do art.\\xa0195 da'), Document(id='e1f24925-1d0b-4947-8f1a-eaeb2ceef5df', metadata={'producer': 'Adobe PDF Library 17.0', 'creator': 'Adobe InDesign 19.5 (Windows)', 'creationdate': '2025-04-01T09:42:42-03:00', 'author': 'Senado Federal', 'moddate': '2025-04-01T09:54:25-03:00', 'title': 'Constituição da República Federativa do Brasil', 'trapped': '/False', 'source': 'constituicao_federal.pdf', 'total_pages': 189, 'page': 20, 'page_label': '21', 'pretty_name': 'Constituição Federal'}, page_content='neste artigo;\\nII – não enviar o repasse até o dia vinte de cada mês; ou\\nIII – enviá-lo a menor em relação à proporção fixada \\nna Lei Orçamentária.\\n§ 3o Constitui crime de responsabilidade do Presi -\\ndente da Câmara Municipal o desrespeito ao §\\xa01o deste \\nartigo.\\nArt. 30. Compete aos Municípios:\\nI – legislar sobre assuntos de interesse local;\\nII – suplementar a legislação federal e a estadual no \\nque couber;\\nIII – instituir e arrecadar os tributos de sua compe-\\ntência, bem como aplicar suas rendas, sem prejuízo da \\nobrigatoriedade de prestar contas e publicar balancetes \\nnos prazos fixados em lei;\\n* NE: leia-se “§\\xa01o ” , por força do disposto na EC\\xa0no\\xa019/1998.'), Document(id='3ddb62ce-f548-4e29-8e6e-9b04162ab23d', metadata={'producer': 'Adobe PDF Library 10.0.1', 'creator': 'Adobe InDesign CS6 (Windows)', 'creationdate': '2017-10-18T12:07:27-02:00', 'moddate': '2017-10-18T12:20:15-02:00', 'trapped': '/False', 'source': 'codigo_defesa_consumidor.pdf', 'total_pages': 135, 'page': 105, 'page_label': '104', 'pretty_name': 'Código de defesa do consumidor'}, page_content='dias, contado do início de cada ano-calendário.\\n§ 4o Na hipótese de vencido o prazo previsto \\nno §\\xa0 3o deste artigo, a Agência Nacional de \\nSaúde Suplementar – ANS, quando for o caso, \\ndefinirá o índice de reajuste.\\n§ 5o A ANS poderá constituir, na forma da \\nlegislação vigente, câmara técnica com repre -\\nsentação proporcional das partes envolvidas \\npara o adequado cumprimento desta Lei.\\n§ 6o A ANS publicará normas regulamen -\\ntares sobre o disposto neste artigo.\\nArt. 18.  A aceitação, por parte de qualquer \\nprestador de serviço ou profissional de saúde, \\nda condição de contratado, referenciado, cre -\\ndenciado ou cooperado de uma operadora de \\nprodutos de que tratam o inciso I e o §\\xa01 o do'), Document(id='d71ddd97-fe0a-4e8f-9082-4c64cb993f52', metadata={'producer': 'Adobe PDF Library 17.0', 'creator': 'Adobe InDesign 19.5 (Windows)', 'creationdate': '2025-04-01T09:42:42-03:00', 'author': 'Senado Federal', 'moddate': '2025-04-01T09:54:25-03:00', 'title': 'Constituição da República Federativa do Brasil', 'trapped': '/False', 'source': 'constituicao_federal.pdf', 'total_pages': 189, 'page': 95, 'page_label': '96', 'pretty_name': 'Constituição Federal'}, page_content='Constituição Federal;\\nII – receitas de contribuições previdenciárias e de \\nassistência à saúde dos servidores;\\nIII – transferências obrigatórias e voluntárias entre \\nentes da Federação com destinação especificada em lei;\\nIV – fundos instituídos pelo Tribunal de Contas do \\nMunicípio.\\nArt. 77. Até o exercício financeiro de 2004, os recursos \\nmínimos aplicados nas ações e serviços públicos de saúde \\nserão equivalentes:\\nI – no caso da União:\\na) no ano\\xa02000, o montante empenhado em ações \\ne serviços públicos de saúde no exercício financeiro de \\n1999 acrescido de, no mínimo, cinco por cento;\\nb) do ano\\xa02001 ao ano\\xa02004, o valor apurado no ano \\nanterior, corrigido pela variação nominal do Produto \\nInterno Bruto – PIB;\\nII – no caso dos Estados e do Distrito Federal, doze \\npor cento do produto da arrecadação dos impostos a \\nque se refere o art.\\xa0155 e dos recursos de que tratam os \\narts.\\xa0157 e 159, inciso I, alínea “a” , e inciso II, deduzi-'), Document(id='dfe43c96-b1cc-440b-98a5-75fff8ab4606', metadata={'producer': 'Adobe PDF Library 17.0', 'creator': 'Adobe InDesign 19.5 (Windows)', 'creationdate': '2025-04-01T09:42:42-03:00', 'author': 'Senado Federal', 'moddate': '2025-04-01T09:54:25-03:00', 'title': 'Constituição da República Federativa do Brasil', 'trapped': '/False', 'source': 'constituicao_federal.pdf', 'total_pages': 189, 'page': 67, 'page_label': '68', 'pretty_name': 'Constituição Federal'}, page_content='nida em lei, desde que seu proprietário não possua outra;\\nII – a propriedade produtiva.\\nParágrafo único. A lei garantirá tratamento especial \\nà propriedade produtiva e fixará normas para o cum -\\nprimento dos requisitos relativos a sua função social.\\nArt. 186. A função social é cumprida quando a proprie-\\ndade rural atende, simultaneamente, segundo critérios'), Document(id='e208a8c1-ced5-4a4f-aa31-b9abcdefd1dd', metadata={'producer': 'Adobe PDF Library 17.0', 'creator': 'Adobe InDesign 19.5 (Windows)', 'creationdate': '2025-04-01T09:42:42-03:00', 'author': 'Senado Federal', 'moddate': '2025-04-01T09:54:25-03:00', 'title': 'Constituição da República Federativa do Brasil', 'trapped': '/False', 'source': 'constituicao_federal.pdf', 'total_pages': 189, 'page': 93, 'page_label': '94', 'pretty_name': 'Constituição Federal'}, page_content='mantidas as demais normas da Lei n o\\xa07.689, de 15 de \\ndezembro de 1988;\\nIV – vinte por cento do produto da arrecadação de \\ntodos os impostos e contribuições da União, já instituídos \\nou a serem criados, excetuado o previsto nos incisos I, \\nII e III, observado o disposto nos §§\\xa03o e 4o;\\nV – a parcela do produto da arrecadação da contri-\\nbuição de que trata a Lei Complementar n o\\xa07, de 7 de \\nsetembro de 1970, devida pelas pessoas jurídicas a que \\nse refere o inciso III deste artigo, a qual será calculada, \\nnos exercícios financeiros de 1994 a 1995, bem assim \\nnos períodos de 1 o de janeiro de 1996 a 30 de junho \\nde 1997 e de 1 o de julho de 1997 a 31 de dezembro de \\n1999, mediante a aplicação da alíquota de setenta e \\ncinco centésimos por cento, sujeita a alteração por lei'), Document(id='d7649a30-5011-4ab8-81f2-459c6cc97b8c', metadata={'producer': 'Adobe PDF Library 17.0', 'creator': 'Adobe InDesign 19.5 (Windows)', 'creationdate': '2025-04-01T09:42:42-03:00', 'author': 'Senado Federal', 'moddate': '2025-04-01T09:54:25-03:00', 'title': 'Constituição da República Federativa do Brasil', 'trapped': '/False', 'source': 'constituicao_federal.pdf', 'total_pages': 189, 'page': 53, 'page_label': '54', 'pretty_name': 'Constituição Federal'}, page_content='VI – propriedade territorial rural;\\nVII – grandes fortunas, nos termos de lei comple -\\nmentar;\\nVIII – produção, extração, comercialização ou impor-\\ntação de bens e serviços prejudiciais à saúde ou ao meio \\nambiente, nos termos de lei complementar.\\n§ 1o É facultado ao Poder Executivo, atendidas as \\ncondições e os limites estabelecidos em lei, alterar as alí-\\nquotas dos impostos enumerados nos incisos I, II, IV e V .\\n§ 2o O imposto previsto no inciso III:\\nI – será informado pelos critérios da generalidade, \\nda universalidade e da progressividade, na forma da lei;\\nII – (Revogado).\\n§ 3o O imposto previsto no inciso IV:\\nI – será seletivo, em função da essencialidade do \\nproduto;\\nII – será não cumulativo, compensando-se o que \\nfor devido em cada operação com o montante cobrado \\nnas anteriores;\\nIII – não incidirá sobre produtos industrializados \\ndestinados ao exterior;\\nIV – terá reduzido seu impacto sobre a aquisição \\nde bens de capital pelo contribuinte do imposto, na \\nforma da lei.'), Document(id='c3217cc4-46cd-415c-972f-b38a9400d18c', metadata={'producer': 'Adobe PDF Library 10.0.1', 'creator': 'Adobe InDesign CS6 (Windows)', 'creationdate': '2017-10-18T12:07:27-02:00', 'moddate': '2017-10-18T12:20:15-02:00', 'trapped': '/False', 'source': 'codigo_defesa_consumidor.pdf', 'total_pages': 135, 'page': 117, 'page_label': '116', 'pretty_name': 'Código de defesa do consumidor'}, page_content='II – vender ou expor à venda mercadoria \\ncuja embalagem, tipo, especificação, peso \\nou composição esteja em desacordo com as \\nprescrições legais, ou que não corresponda à \\nrespectiva classificação oficial;\\nIII – misturar gêneros e mercadorias de \\nespécies diferentes, para vendê-los ou expô-los \\nà venda como puros; misturar gêneros e merca-\\ndorias de qualidades desiguais para vendê-los \\nou expô-los à venda por preço estabelecido para \\nos de mais alto custo;\\nIV – fraudar preços por meio de:\\na) alteração, sem modificação essencial ou \\nde qualidade, de elementos tais como deno -\\nminação, sinal externo, marca, embalagem, \\nespecificação técnica, descrição, volume, peso, \\npintura ou acabamento de bem ou serviço;\\nb) divisão em partes de bem ou serviço, \\nhabitualmente oferecido à venda em conjunto;\\nc) junção de bens ou serviços, comumente \\noferecidos à venda em separado;\\nd) aviso de inclusão de insumo não em -\\npregado na produção do bem ou na prestação \\ndos serviços;'), Document(id='89277644-fa5c-4219-b3a4-6c16431b23e3', metadata={'producer': 'Adobe PDF Library 10.0.1', 'creator': 'Adobe InDesign CS6 (Windows)', 'creationdate': '2017-10-18T12:07:27-02:00', 'moddate': '2017-10-18T12:20:15-02:00', 'trapped': '/False', 'source': 'codigo_defesa_consumidor.pdf', 'total_pages': 135, 'page': 2, 'page_label': '1', 'pretty_name': 'Código de defesa do consumidor'}, page_content='Código de Defesa  \\ndo Consumidor\\ne normas correlatas'), Document(id='3e114a03-e938-4b3e-b8ae-53974029f4c8', metadata={'producer': 'Adobe PDF Library 10.0.1', 'creator': 'Adobe InDesign CS6 (Windows)', 'creationdate': '2017-10-18T12:07:27-02:00', 'moddate': '2017-10-18T12:20:15-02:00', 'trapped': '/False', 'source': 'codigo_defesa_consumidor.pdf', 'total_pages': 135, 'page': 29, 'page_label': '28', 'pretty_name': 'Código de defesa do consumidor'}, page_content='convenção escrita, relações de consumo que te-\\nnham por objeto estabelecer condições relativas \\nao preço, à qualidade, à quantidade, à garantia \\ne características de produtos e serviços, bem \\ncomo à reclamação e composição do conflito \\nde consumo.'), Document(id='a325e2ed-2f6f-430b-9043-cad43c15a33f', metadata={'producer': 'Adobe PDF Library 10.0.1', 'creator': 'Adobe InDesign CS6 (Windows)', 'creationdate': '2017-10-18T12:07:27-02:00', 'moddate': '2017-10-18T12:20:15-02:00', 'trapped': '/False', 'source': 'codigo_defesa_consumidor.pdf', 'total_pages': 135, 'page': 87, 'page_label': '86', 'pretty_name': 'Código de defesa do consumidor'}, page_content='86\\nCódigo de Defesa do Consumidor\\nnante ou que possam resultar na dominação de \\nmercado relevante de bens ou serviços, ressal-\\nvado o disposto no §\\xa06o deste artigo.\\n§ 6o Os atos a que se refere o §\\xa05 o deste ar-\\ntigo poderão ser autorizados, desde que sejam \\nobservados os limites estritamente necessários \\npara atingir os seguintes objetivos:\\nI – cumulada ou alternativamente:\\na) aumentar a produtividade ou a compe -\\ntitividade;\\nb) melhorar a qualidade de bens ou servi -\\nços; ou\\nc) propiciar a eficiência e o desenvolvimento \\ntecnológico ou econômico; e\\nII – sejam repassados aos consumidores \\nparte relevante dos benefícios decorrentes.\\n§ 7o É facultado ao Cade, no prazo de 1 (um) \\nano a contar da respectiva data de consumação, \\nrequerer a submissão dos atos de concentração \\nque não se enquadrem no disposto neste artigo.\\n§ 8o As mudanças de controle acionário de \\ncompanhias abertas e os registros de fusão, sem \\nprejuízo da obrigação das partes envolvidas,'), Document(id='67ea6fc8-6234-40f6-a302-3a8bab7251a6', metadata={'producer': 'Adobe PDF Library 10.0.1', 'creator': 'Adobe InDesign CS6 (Windows)', 'creationdate': '2017-10-18T12:07:27-02:00', 'moddate': '2017-10-18T12:20:15-02:00', 'trapped': '/False', 'source': 'codigo_defesa_consumidor.pdf', 'total_pages': 135, 'page': 17, 'page_label': '16', 'pretty_name': 'Código de defesa do consumidor'}, page_content='16\\nCódigo de Defesa do Consumidor\\nmensagem publicitária, podendo o consumidor \\nexigir, alternativamente e à sua escolha:\\nI – o abatimento proporcional do preço;\\nII – complementação do peso ou medida;\\nIII – a substituição do produto por outro \\nda mesma espécie, marca ou modelo, sem os \\naludidos vícios;\\nIV – a restituição imediata da quantia paga, \\nmonetariamente atualizada, sem prejuízo de \\neventuais perdas e danos.\\n§ 1o Aplica-se a este artigo o disposto no \\n§\\xa04o do artigo anterior.\\n§ 2o O fornecedor imediato será responsável \\nquando fizer a pesagem ou a medição e o ins -\\ntrumento utilizado não estiver aferido segundo \\nos padrões oficiais.\\nArt. 20.  O fornecedor de serviços responde \\npelos vícios de qualidade que os tornem im -\\npróprios ao consumo ou lhes diminuam o valor, \\nassim como por aqueles decorrentes da dispari-\\ndade com as indicações constantes da oferta ou \\nmensagem publicitária, podendo o consumidor \\nexigir, alternativamente e à sua escolha:')]\n"
     ]
    }
   ],
   "source": [
    "print(retriever_agent.get_relevant_documents(queries))"
   ]
  },
  {
   "cell_type": "code",
   "execution_count": 4,
   "id": "cb30f941",
   "metadata": {},
   "outputs": [
    {
     "name": "stdout",
     "output_type": "stream",
     "text": [
      "[Document(id='9af87bf0-9bef-4a12-996e-f6b8a12328cf', metadata={'producer': 'Adobe PDF Library 17.0', 'creator': 'Adobe InDesign 19.5 (Windows)', 'creationdate': '2025-04-01T09:42:42-03:00', 'author': 'Senado Federal', 'moddate': '2025-04-01T09:54:25-03:00', 'title': 'Constituição da República Federativa do Brasil', 'trapped': '/False', 'source': 'constituicao_federal.pdf', 'total_pages': 189, 'page': 20, 'page_label': '21', 'pretty_name': 'Constituição Federal'}, page_content='máximo dos Vereadores corresponderá a vinte por cento \\ndo subsídio dos Deputados Estaduais;\\nb) em Municípios de dez mil e um a cinquenta mil \\nhabitantes, o subsídio máximo dos Vereadores corres-\\nponderá a trinta por cento do subsídio dos Deputados \\nEstaduais;\\nc) em Municípios de cinquenta mil e um a cem mil \\nhabitantes, o subsídio máximo dos Vereadores corres-\\nponderá a quarenta por cento do subsídio dos Deputados \\nEstaduais;\\nd) em Municípios de cem mil e um a trezentos mil \\nhabitantes, o subsídio máximo dos Vereadores corres-\\nponderá a cinquenta por cento do subsídio dos Depu-\\ntados Estaduais;\\ne) em Municípios de trezentos mil e um a quinhen-\\ntos mil habitantes, o subsídio máximo dos Vereadores \\ncorresponderá a sessenta por cento do subsídio dos \\nDeputados Estaduais;\\nf) em Municípios de mais de quinhentos mil habitan-\\ntes, o subsídio máximo dos Vereadores corresponderá \\na setenta e cinco por cento do subsídio dos Deputados \\nEstaduais;\\nVII – o total da despesa com a remuneração dos'), Document(id='b9b41a3f-daf4-40a3-a022-a6b28cc016d1', metadata={'producer': 'Adobe PDF Library 17.0', 'creator': 'Adobe InDesign 19.5 (Windows)', 'creationdate': '2025-04-01T09:42:42-03:00', 'author': 'Senado Federal', 'moddate': '2025-04-01T09:54:25-03:00', 'title': 'Constituição da República Federativa do Brasil', 'trapped': '/False', 'source': 'constituicao_federal.pdf', 'total_pages': 189, 'page': 13, 'page_label': '14', 'pretty_name': 'Constituição Federal'}, page_content='XXII – redução dos riscos inerentes ao trabalho, por \\nmeio de normas de saúde, higiene e segurança;\\nXXIII – adicional de remuneração para as atividades \\npenosas, insalubres ou perigosas, na forma da lei;\\nXXIV – aposentadoria;\\nXXV – assistência gratuita aos filhos e dependentes \\ndesde o nascimento até 5 (cinco) anos de idade em \\ncreches e pré-escolas;\\nXXVI – reconhecimento das convenções e acordos \\ncoletivos de trabalho;\\nXXVII – proteção em face da automação, na forma \\nda lei;\\nXXVIII – seguro contra acidentes de trabalho, a cargo \\ndo empregador, sem excluir a indenização a que este está \\nobrigado, quando incorrer em dolo ou culpa;\\nXXIX – ação, quanto aos créditos resultantes das \\nrelações de trabalho, com prazo prescricional de cinco \\nanos para os trabalhadores urbanos e rurais, até o limite \\nde dois anos após a extinção do contrato de trabalho;\\na) (Revogada);\\nb) (Revogada);\\nXXX – proibição de diferença de salários, de exercício'), Document(id='97754751-dac0-43ca-8eb3-689892224ce9', metadata={'producer': 'Adobe PDF Library 17.0', 'creator': 'Adobe InDesign 19.5 (Windows)', 'creationdate': '2025-04-01T09:42:42-03:00', 'author': 'Senado Federal', 'moddate': '2025-04-01T09:54:25-03:00', 'title': 'Constituição da República Federativa do Brasil', 'trapped': '/False', 'source': 'constituicao_federal.pdf', 'total_pages': 189, 'page': 171, 'page_label': '172', 'pretty_name': 'Constituição Federal'}, page_content='para as necessidades relacionadas com a deficiência;\\nb) Assegurar o acesso de pessoas com deficiência, parti-\\ncularmente mulheres, crianças e idosos com deficiência, \\na programas de proteção social e de redução da pobreza;\\nc) Assegurar o acesso de pessoas com deficiência e suas \\nfamílias em situação de pobreza à assistência do Estado \\nem relação a seus gastos ocasionados pela deficiência, \\ninclusive treinamento adequado, aconselhamento, ajuda \\nfinanceira e cuidados de repouso;\\nd) Assegurar o acesso de pessoas com deficiência a \\nprogramas habitacionais públicos;\\ne) Assegurar igual acesso de pessoas com deficiência a \\nprogramas e benefícios de aposentadoria.\\nArtigo 29 – Participação na vida política e pública\\nOs Estados Partes garantirão às pessoas com deficiência \\ndireitos políticos e oportunidade de exercê-los em con-\\ndições de igualdade com as demais pessoas, e deverão:\\na) Assegurar que as pessoas com deficiência possam \\nparticipar efetiva e plenamente na vida política e pública,'), Document(id='98c5437d-a430-4b0f-a3ca-4a8abe3504ec', metadata={'producer': 'Adobe PDF Library 10.0.1', 'creator': 'Adobe InDesign CS6 (Windows)', 'creationdate': '2017-10-18T12:07:27-02:00', 'moddate': '2017-10-18T12:20:15-02:00', 'trapped': '/False', 'source': 'codigo_defesa_consumidor.pdf', 'total_pages': 135, 'page': 75, 'page_label': '74', 'pretty_name': 'Código de defesa do consumidor'}, page_content='XII – dificultar ou romper a continuidade ou \\ndesenvolvimento de relações comerciais de pra-\\nzo indeterminado em razão de recusa da outra \\nparte em submeter-se a cláusulas e condições \\ncomerciais injustificáveis ou anticoncorrenciais;\\nXIII – destruir, inutilizar ou açambarcar \\nmatérias-primas, produtos intermediários ou \\nacabados, assim como destruir, inutilizar ou di-\\nficultar a operação de equipamentos destinados \\na produzi-los, distribuí-los ou transportá-los;\\nXIV – açambarcar ou impedir a exploração \\nde direitos de propriedade industrial ou inte -\\nlectual ou de tecnologia;\\nXV – vender mercadoria ou prestar serviços \\ninjustificadamente abaixo do preço de custo;'), Document(id='1bd08bd8-e36b-4ac1-979d-3d081cbd56cc', metadata={'producer': 'Adobe PDF Library 17.0', 'creator': 'Adobe InDesign 19.5 (Windows)', 'creationdate': '2025-04-01T09:42:42-03:00', 'author': 'Senado Federal', 'moddate': '2025-04-01T09:54:25-03:00', 'title': 'Constituição da República Federativa do Brasil', 'trapped': '/False', 'source': 'constituicao_federal.pdf', 'total_pages': 189, 'page': 73, 'page_label': '74', 'pretty_name': 'Constituição Federal'}, page_content='§ 2o O disposto neste artigo aplica-se às instituições \\nde pesquisa científica e tecnológica.\\nArt. 208. O dever do Estado com a educação será efe-\\ntivado mediante a garantia de:\\nI – educação básica obrigatória e gratuita dos 4 \\n(quatro) aos 17 (dezessete) anos de idade, assegurada \\ninclusive sua oferta gratuita para todos os que a ela não \\ntiveram acesso na idade própria;\\nII – progressiva universalização do ensino médio \\ngratuito;\\nIII – atendimento educacional especializado aos \\nportadores de deficiência, preferencialmente na rede \\nregular de ensino;\\nIV – educação infantil, em creche e pré-escola, às \\ncrianças até 5 (cinco) anos de idade;\\nV – acesso aos níveis mais elevados do ensino, da \\npesquisa e da criação artística, segundo a capacidade \\nde cada um;\\nVI – oferta de ensino noturno regular, adequado às \\ncondições do educando;\\nVII – atendimento ao educando, em todas as etapas da \\neducação básica, por meio de programas suplementares'), Document(id='b30a22e0-7851-41d5-bd02-e6eff385ba01', metadata={'producer': 'Adobe PDF Library 10.0.1', 'creator': 'Adobe InDesign CS6 (Windows)', 'creationdate': '2017-10-18T12:07:27-02:00', 'moddate': '2017-10-18T12:20:15-02:00', 'trapped': '/False', 'source': 'codigo_defesa_consumidor.pdf', 'total_pages': 135, 'page': 42, 'page_label': '41', 'pretty_name': 'Código de defesa do consumidor'}, page_content='a que se destina ou que lhe diminua o valor;\\nX – deixar de reexecutar os serviços, quando \\ncabível, sem custo adicional;\\nXI – deixar de estipular prazo para o cum -\\nprimento de sua obrigação ou deixar a fixação'), Document(id='14fa7bf1-b453-4b2e-880f-704d7223412e', metadata={'producer': 'Adobe PDF Library 10.0.1', 'creator': 'Adobe InDesign CS6 (Windows)', 'creationdate': '2017-10-18T12:07:27-02:00', 'moddate': '2017-10-18T12:20:15-02:00', 'trapped': '/False', 'source': 'codigo_defesa_consumidor.pdf', 'total_pages': 135, 'page': 32, 'page_label': '31', 'pretty_name': 'Código de defesa do consumidor'}, page_content='midor para identificação e correção imediata \\nde erros ocorridos nas etapas anteriores à \\nfinalização da contratação;\\nIII – confirmar imediatamente o recebimen-\\nto da aceitação da oferta;\\nIV – disponibilizar o contrato ao consumi-\\ndor em meio que permita sua conservação e \\nreprodução, imediatamente após a contratação;\\nV – manter serviço adequado e eficaz de \\natendimento em meio eletrônico, que possibi-\\nlite ao consumidor a resolução de demandas \\nreferentes a informação, dúvida, reclamação, \\nsuspensão ou cancelamento do contrato;\\nVI – confirmar imediatamente o recebi -\\nmento das demandas do consumidor referidas \\nno inciso, pelo mesmo meio empregado pelo \\nconsumidor; e'), Document(id='42866125-c999-4488-9657-154c062ad413', metadata={'producer': 'Adobe PDF Library 17.0', 'creator': 'Adobe InDesign 19.5 (Windows)', 'creationdate': '2025-04-01T09:42:42-03:00', 'author': 'Senado Federal', 'moddate': '2025-04-01T09:54:25-03:00', 'title': 'Constituição da República Federativa do Brasil', 'trapped': '/False', 'source': 'constituicao_federal.pdf', 'total_pages': 189, 'page': 17, 'page_label': '18', 'pretty_name': 'Constituição Federal'}, page_content='nômico e social;\\nX – manter o serviço postal e o correio aéreo nacional;\\nXI – explorar, diretamente ou mediante autorização, \\nconcessão ou permissão, os serviços de telecomunica-\\nções, nos termos da lei, que disporá sobre a organização \\ndos serviços, a criação de um órgão regulador e outros \\naspectos institucionais;\\nXII – explorar, diretamente ou mediante autorização, \\nconcessão ou permissão:\\na) os serviços de radiodifusão sonora e de sons e \\nimagens;\\nb) os serviços e instalações de energia elétrica e o \\naproveitamento energético dos cursos de água, em arti-\\nculação com os Estados onde se situam os potenciais \\nhidroenergéticos;\\nc) a navegação aérea, aeroespacial e a infraestrutura \\naeroportuária;\\nd) os serviços de transporte ferroviário e aquaviário \\nentre portos brasileiros e fronteiras nacionais, ou que \\ntransponham os limites de Estado ou Território;\\ne) os serviços de transporte rodoviário interestadual \\ne internacional de passageiros;\\nf) os portos marítimos, fluviais e lacustres;'), Document(id='5a3c5a65-78a1-473b-a3b0-ac9f884fb1ae', metadata={'producer': 'Adobe PDF Library 17.0', 'creator': 'Adobe InDesign 19.5 (Windows)', 'creationdate': '2025-04-01T09:42:42-03:00', 'author': 'Senado Federal', 'moddate': '2025-04-01T09:54:25-03:00', 'title': 'Constituição da República Federativa do Brasil', 'trapped': '/False', 'source': 'constituicao_federal.pdf', 'total_pages': 189, 'page': 19, 'page_label': '20', 'pretty_name': 'Constituição Federal'}, page_content='(quinze mil) habitantes;\\nb) 11 (onze) Vereadores, nos Municípios de mais de \\n15.000 (quinze mil) habitantes e de até 30.000 (trinta \\nmil) habitantes;\\nc) 13 (treze) Vereadores, nos Municípios com mais de \\n30.000 (trinta mil) habitantes e de até 50.000 (cinquenta \\nmil) habitantes;\\nd) 15 (quinze) Vereadores, nos Municípios de mais \\nde 50.000 (cinquenta mil) habitantes e de até 80.000 \\n(oitenta mil) habitantes;\\ne) 17 (dezessete) Vereadores, nos Municípios de mais \\nde 80.000 (oitenta mil) habitantes e de até 120.000 (cento \\ne vinte mil) habitantes;\\nf) 19 (dezenove) Vereadores, nos Municípios de mais \\nde 120.000 (cento e vinte mil) habitantes e de até 160.000 \\n(cento e sessenta mil) habitantes;\\ng) 21 (vinte e um) Vereadores, nos Municípios de \\nmais de 160.000 (cento e sessenta mil) habitantes e de \\naté 300.000 (trezentos mil) habitantes;\\nh) 23 (vinte e três) Vereadores, nos Municípios de \\nmais de 300.000 (trezentos mil) habitantes e de até \\n450.000 (quatrocentos e cinquenta mil) habitantes;'), Document(id='21d0e805-133e-41ea-82a1-b8296585db4e', metadata={'producer': 'Adobe PDF Library 17.0', 'creator': 'Adobe InDesign 19.5 (Windows)', 'creationdate': '2025-04-01T09:42:42-03:00', 'author': 'Senado Federal', 'moddate': '2025-04-01T09:54:25-03:00', 'title': 'Constituição da República Federativa do Brasil', 'trapped': '/False', 'source': 'constituicao_federal.pdf', 'total_pages': 189, 'page': 38, 'page_label': '39', 'pretty_name': 'Constituição Federal'}, page_content='em dívida ativa do ente federativo devedor, inclusive \\nem transação resolutiva de litígio, e, subsidiariamente, \\ndébitos com a administração autárquica e fundacional \\ndo mesmo ente;\\nII – compra de imóveis públicos de propriedade do \\nmesmo ente disponibilizados para venda;\\n* NE: ver ADIs nos\\xa04.357 e 4.425.'), Document(id='5065cc76-5e62-4cb7-8b15-506c4aba9261', metadata={'producer': 'Adobe PDF Library 17.0', 'creator': 'Adobe InDesign 19.5 (Windows)', 'creationdate': '2025-04-01T09:42:42-03:00', 'author': 'Senado Federal', 'moddate': '2025-04-01T09:54:25-03:00', 'title': 'Constituição da República Federativa do Brasil', 'trapped': '/False', 'source': 'constituicao_federal.pdf', 'total_pages': 189, 'page': 157, 'page_label': '158', 'pretty_name': 'Constituição Federal'}, page_content='“ Art. 212-A.  .................................................................\\n .........................................................................................\\nII –  .................................................................................\\n .........................................................................................\\nc) dos recursos a que se referem os incisos I e III do \\ncaput do art.\\xa0155, o inciso II do caput do art.\\xa0157, os \\nincisos II, III e IV do caput  do art.\\xa0158 e as alíneas \\n“a” e “b” do inciso I e o inciso II do caput do art.\\xa0159 \\ndesta Constituição;\\n .......................................................................................”\\n“ Art. 225.  ......................................................................\\n§ 1o  ................................................................................\\n .........................................................................................\\nVIII – manter regime fiscal favorecido para os'), Document(id='fb0600c5-db5a-4c77-8f00-69766d8d78b1', metadata={'producer': 'Adobe PDF Library 17.0', 'creator': 'Adobe InDesign 19.5 (Windows)', 'creationdate': '2025-04-01T09:42:42-03:00', 'author': 'Senado Federal', 'moddate': '2025-04-01T09:54:25-03:00', 'title': 'Constituição da República Federativa do Brasil', 'trapped': '/False', 'source': 'constituicao_federal.pdf', 'total_pages': 189, 'page': 107, 'page_label': '108', 'pretty_name': 'Constituição Federal'}, page_content='“b” , todos da Constituição Federal; e\\nII – a respectiva receita média, apurada nos termos do \\nart.\\xa0131, §\\xa02o, I, II e III, deste Ato das Disposições Cons-\\ntitucionais Transitórias, limitada a 3 (três) vezes a média \\nnacional por habitante da respectiva esfera federativa.\\n§ 1o Os recursos serão distribuídos, sequencial e \\nsucessivamente, aos entes com as menores razões de \\nque trata o caput, de maneira que, ao final da distribui-\\nção, para todos os entes que receberem recursos, seja \\nobservada a mesma a razão entre:\\nI – a soma do valor apurado nos termos do inciso I \\ndo caput com o valor recebido nos termos deste artigo; e\\nII – a receita média apurada na forma do inciso II \\ndo caput.\\n§ 2o Aplica-se aos recursos distribuídos na forma \\ndeste artigo o disposto no art.\\xa0131, §\\xa05 o deste Ato das \\nDisposições Constitucionais Transitórias.\\n§ 3o Lei complementar estabelecerá os critérios para \\na redução gradativa, entre 2078 e 2097, do percentual \\nde que trata o caput, até a sua extinção.'), Document(id='1f16860b-26cf-49e0-a087-026e584effbb', metadata={'producer': 'Adobe PDF Library 10.0.1', 'creator': 'Adobe InDesign CS6 (Windows)', 'creationdate': '2017-10-18T12:07:27-02:00', 'moddate': '2017-10-18T12:20:15-02:00', 'trapped': '/False', 'source': 'codigo_defesa_consumidor.pdf', 'total_pages': 135, 'page': 76, 'page_label': '75', 'pretty_name': 'Código de defesa do consumidor'}, page_content='ridade do infrator, quando a infração estiver \\nrelacionada ao uso desse direito;\\nb) não seja concedido ao infrator parce -\\nlamento de tributos federais por ele devidos \\nou para que sejam cancelados, no todo ou em \\nparte, incentivos fiscais ou subsídios públicos;\\nV – a cisão de sociedade, transferência de \\ncontrole societário, venda de ativos ou cessação \\nparcial de atividade;\\nVI – a proibição de exercer o comércio em \\nnome próprio ou como representante de pessoa \\njurídica, pelo prazo de até 5 (cinco) anos; e'), Document(id='9b4b9755-4c4e-418a-9f70-5ab6f07fb575', metadata={'producer': 'Adobe PDF Library 17.0', 'creator': 'Adobe InDesign 19.5 (Windows)', 'creationdate': '2025-04-01T09:42:42-03:00', 'author': 'Senado Federal', 'moddate': '2025-04-01T09:54:25-03:00', 'title': 'Constituição da República Federativa do Brasil', 'trapped': '/False', 'source': 'constituicao_federal.pdf', 'total_pages': 189, 'page': 52, 'page_label': '53', 'pretty_name': 'Constituição Federal'}, page_content='ou pagamento de preços ou tarifas pelo usuário, nem \\nexoneram o promitente comprador da obrigação de \\npagar imposto relativamente ao bem imóvel.\\n§ 4o As vedações expressas no inciso VI, alíneas “b” \\ne “c” , compreendem somente o patrimônio, a renda e os \\nserviços, relacionados com as finalidades essenciais das \\nentidades nelas mencionadas.\\n§ 5o A lei determinará medidas para que os consu-\\nmidores sejam esclarecidos acerca dos impostos que \\nincidam sobre mercadorias e serviços.\\n§ 6o Qualquer subsídio ou isenção, redução de base \\nde cálculo, concessão de crédito presumido, anistia ou \\nremissão, relativos a impostos, taxas ou contribuições, \\nsó poderá ser concedido mediante lei específica, fede-\\nral, estadual ou municipal, que regule exclusivamente \\nas matérias acima enumeradas ou o correspondente \\ntributo ou contribuição, sem prejuízo do disposto no \\nart.\\xa0155, §\\xa02o, XII, “g” .\\n§ 7o A lei poderá atribuir a sujeito passivo de obri-\\ngação tributária a condição de responsável pelo paga-'), Document(id='dc2fff96-3072-4a75-a933-aa84381c1d04', metadata={'producer': 'Adobe PDF Library 17.0', 'creator': 'Adobe InDesign 19.5 (Windows)', 'creationdate': '2025-04-01T09:42:42-03:00', 'author': 'Senado Federal', 'moddate': '2025-04-01T09:54:25-03:00', 'title': 'Constituição da República Federativa do Brasil', 'trapped': '/False', 'source': 'constituicao_federal.pdf', 'total_pages': 189, 'page': 74, 'page_label': '75', 'pretty_name': 'Constituição Federal'}, page_content='alínea “c” do inciso V do caput deste artigo;\\nd) a transparência, o monitoramento, a fiscalização e \\no controle interno, externo e social dos fundos referidos \\nno inciso I do caput deste artigo, assegurada a criação, a \\nautonomia, a manutenção e a consolidação de conselhos'), Document(id='354aaceb-eb19-4acc-8089-12c10353e333', metadata={'producer': 'Adobe PDF Library 10.0.1', 'creator': 'Adobe InDesign CS6 (Windows)', 'creationdate': '2017-10-18T12:07:27-02:00', 'moddate': '2017-10-18T12:20:15-02:00', 'trapped': '/False', 'source': 'codigo_defesa_consumidor.pdf', 'total_pages': 135, 'page': 103, 'page_label': '102', 'pretty_name': 'Código de defesa do consumidor'}, page_content='dias após o parto;\\nb) inscrição assegurada ao recém-nascido, \\nfilho natural ou adotivo do consumidor, como \\ndependente, isento do cumprimento dos perío-\\ndos de carência, desde que a inscrição ocorra \\nno prazo máximo de trinta dias do nascimento \\nou da adoção;\\nIV – quando incluir atendimento odonto -\\nlógico:\\na) cobertura de consultas e exames au -\\nxiliares ou complementares, solicitados pelo \\nodontólogo assistente;\\nb) cobertura de procedimentos preventivos, \\nde dentística e endodontia;\\nc) cobertura de cirurgias orais menores, \\nassim consideradas as realizadas em ambiente \\nambulatorial e sem anestesia geral;\\nV – quando fixar períodos de carência:\\na) prazo máximo de trezentos dias para \\npartos a termo;\\nb) prazo máximo de cento e oitenta dias \\npara os demais casos;\\nc) prazo máximo de vinte e quatro horas \\npara a cobertura dos casos de urgência e \\nemergência;\\nVI – reembolso, em todos os tipos de pro -\\ndutos de que tratam o inciso I e o §\\xa01o do art.\\xa01o'), Document(id='a77125d1-2bcd-4bdb-9c52-227d00546b99', metadata={'producer': 'Adobe PDF Library 17.0', 'creator': 'Adobe InDesign 19.5 (Windows)', 'creationdate': '2025-04-01T09:42:42-03:00', 'author': 'Senado Federal', 'moddate': '2025-04-01T09:54:25-03:00', 'title': 'Constituição da República Federativa do Brasil', 'trapped': '/False', 'source': 'constituicao_federal.pdf', 'total_pages': 189, 'page': 44, 'page_label': '45', 'pretty_name': 'Constituição Federal'}, page_content='I, “o”;\\nVI – as ações de indenização por dano moral ou \\npatrimonial, decorrentes da relação de trabalho;\\nVII – as ações relativas às penalidades administrativas \\nimpostas aos empregadores pelos órgãos de fiscalização \\ndas relações de trabalho;\\nVIII – a execução, de ofício, das contribuições sociais \\nprevistas no art.\\xa0195, I, “a” , e II, e seus acréscimos legais, \\ndecorrentes das sentenças que proferir;\\nIX – outras controvérsias decorrentes da relação de \\ntrabalho, na forma da lei.\\n§ 1o Frustrada a negociação coletiva, as partes pode-\\nrão eleger árbitros.\\n§ 2o Recusando-se qualquer das partes à negociação \\ncoletiva ou à arbitragem, é facultado às mesmas, de \\ncomum acordo, ajuizar dissídio coletivo de natureza \\neconômica, podendo a Justiça do Trabalho decidir o \\nconflito, respeitadas as disposições mínimas legais de \\nproteção ao trabalho, bem como as convencionadas \\nanteriormente.\\n§ 3o Em caso de greve em atividade essencial, com'), Document(id='ff9d0a55-4bc9-4ca2-ac4e-c1166818bf50', metadata={'producer': 'Adobe PDF Library 17.0', 'creator': 'Adobe InDesign 19.5 (Windows)', 'creationdate': '2025-04-01T09:42:42-03:00', 'author': 'Senado Federal', 'moddate': '2025-04-01T09:54:25-03:00', 'title': 'Constituição da República Federativa do Brasil', 'trapped': '/False', 'source': 'constituicao_federal.pdf', 'total_pages': 189, 'page': 12, 'page_label': '13', 'pretty_name': 'Constituição Federal'}, page_content='LIII – ninguém será processado nem sentenciado \\nsenão pela autoridade competente;\\nLIV – ninguém será privado da liberdade ou de seus \\nbens sem o devido processo legal;\\nLV – aos litigantes, em processo judicial ou admi -\\nnistrativo, e aos acusados em geral são assegurados o \\ncontraditório e ampla defesa, com os meios e recursos \\na ela inerentes;\\nLVI – são inadmissíveis, no processo, as provas obtidas \\npor meios ilícitos;\\nLVII – ninguém será considerado culpado até o trân-\\nsito em julgado de sentença penal condenatória;\\nLVIII – o civilmente identificado não será submetido \\na identificação criminal, salvo nas hipóteses previstas \\nem lei;\\nLIX – será admitida ação privada nos crimes de ação \\npública, se esta não for intentada no prazo legal;\\nLX – a lei só poderá restringir a publicidade dos atos \\nprocessuais quando a defesa da intimidade ou o interesse \\nsocial o exigirem;\\nLXI – ninguém será preso senão em flagrante delito \\nou por ordem escrita e fundamentada de autoridade'), Document(id='d9da158e-29eb-423a-a327-0c3137b37c52', metadata={'producer': 'Adobe PDF Library 17.0', 'creator': 'Adobe InDesign 19.5 (Windows)', 'creationdate': '2025-04-01T09:42:42-03:00', 'author': 'Senado Federal', 'moddate': '2025-04-01T09:54:25-03:00', 'title': 'Constituição da República Federativa do Brasil', 'trapped': '/False', 'source': 'constituicao_federal.pdf', 'total_pages': 189, 'page': 11, 'page_label': '12', 'pretty_name': 'Constituição Federal'}, page_content='os definidos como crimes hediondos, por eles respon-\\ndendo os mandantes, os executores e os que, podendo \\nevitá-los, se omitirem;\\nXLIV – constitui crime inafiançável e imprescritível \\na ação de grupos armados, civis ou militares, contra a \\nordem constitucional e o Estado Democrático;\\nXLV – nenhuma pena passará da pessoa do con -\\ndenado, podendo a obrigação de reparar o dano e a \\ndecretação do perdimento de bens ser, nos termos da \\nlei, estendidas aos sucessores e contra eles executadas, \\naté o limite do valor do patrimônio transferido;\\nXLVI – a lei regulará a individualização da pena e \\nadotará, entre outras, as seguintes:\\na) privação ou restrição da liberdade;\\nb) perda de bens;\\nc) multa;\\nd) prestação social alternativa;\\ne) suspensão ou interdição de direitos;\\nXLVII – não haverá penas:'), Document(id='da31b64a-60e2-4a2b-9fb9-8fbafddb36ea', metadata={'producer': 'Adobe PDF Library 17.0', 'creator': 'Adobe InDesign 19.5 (Windows)', 'creationdate': '2025-04-01T09:42:42-03:00', 'author': 'Senado Federal', 'moddate': '2025-04-01T09:54:25-03:00', 'title': 'Constituição da República Federativa do Brasil', 'trapped': '/False', 'source': 'constituicao_federal.pdf', 'total_pages': 189, 'page': 12, 'page_label': '13', 'pretty_name': 'Constituição Federal'}, page_content='social o exigirem;\\nLXI – ninguém será preso senão em flagrante delito \\nou por ordem escrita e fundamentada de autoridade \\njudiciária competente, salvo nos casos de transgressão \\nmilitar ou crime propriamente militar, definidos em lei;\\nLXII – a prisão de qualquer pessoa e o local onde se \\nencontre serão comunicados imediatamente ao juiz com-\\npetente e à família do preso ou à pessoa por ele indicada;\\nLXIII – o preso será informado de seus direitos, entre \\nos quais o de permanecer calado, sendo-lhe assegurada \\na assistência da família e de advogado;\\nLXIV – o preso tem direito à identificação dos respon-\\nsáveis por sua prisão ou por seu interrogatório policial;\\nLXV – a prisão ilegal será imediatamente relaxada \\npela autoridade judiciária;\\nLXVI – ninguém será levado à prisão ou nela man-\\ntido, quando a lei admitir a liberdade provisória, com \\nou sem fiança;\\nLXVII – não haverá prisão civil por dívida, salvo a do \\nresponsável pelo inadimplemento voluntário e inescu-'), Document(id='55845aa5-adf2-4182-a926-270fddb85291', metadata={'producer': 'Adobe PDF Library 17.0', 'creator': 'Adobe InDesign 19.5 (Windows)', 'creationdate': '2025-04-01T09:42:42-03:00', 'author': 'Senado Federal', 'moddate': '2025-04-01T09:54:25-03:00', 'title': 'Constituição da República Federativa do Brasil', 'trapped': '/False', 'source': 'constituicao_federal.pdf', 'total_pages': 189, 'page': 5, 'page_label': '6', 'pretty_name': 'Constituição Federal'}, page_content='Seção III – Da Previdência Social ..................................................................................................................................72\\nSeção IV – Da Assistência Social ...................................................................................................................................73\\nCapítulo III – Da Educação, da Cultura e do Desporto .................................................................................................73\\nSeção I – Da Educação ....................................................................................................................................................73\\nSeção II – Da Cultura ......................................................................................................................................................76'), Document(id='d0efc916-4242-44da-a15e-62f7313c0ea9', metadata={'producer': 'Adobe PDF Library 17.0', 'creator': 'Adobe InDesign 19.5 (Windows)', 'creationdate': '2025-04-01T09:42:42-03:00', 'author': 'Senado Federal', 'moddate': '2025-04-01T09:54:25-03:00', 'title': 'Constituição da República Federativa do Brasil', 'trapped': '/False', 'source': 'constituicao_federal.pdf', 'total_pages': 189, 'page': 5, 'page_label': '6', 'pretty_name': 'Constituição Federal'}, page_content='Título VIII – Da Ordem Social .......................................................................................................................................69\\nCapítulo I – Disposição Geral ............................................................................................................................................69\\nCapítulo II – Da Seguridade Social ...................................................................................................................................69\\nSeção I – Disposições Gerais ..........................................................................................................................................69\\nSeção II – Da Saúde .........................................................................................................................................................70')]\n"
     ]
    }
   ],
   "source": [
    "print(retriever_agent.get_relevant_documents(\"Reembolso\"))"
   ]
  },
  {
   "cell_type": "markdown",
   "id": "9c466946",
   "metadata": {},
   "source": [
    "### Gerando uma resposta a partir dos documentos"
   ]
  },
  {
   "cell_type": "code",
   "execution_count": 2,
   "id": "82848b20",
   "metadata": {},
   "outputs": [
    {
     "name": "stdout",
     "output_type": "stream",
     "text": [
      "--- CONSULTAS EXPANDIDAS: ['venda condicionada lei brasileira', 'Me fale sobre venda condicionada', 'venda casada equivalente jurídico', 'venda casada no código do consumidor', 'o que é venda condicionada no código do consumidor', 'proibição de venda condicionada lei'] ---\n",
      "Com base nos documentos fornecidos, não encontrei informações sobre venda casada.\n"
     ]
    }
   ],
   "source": [
    "prompt = \"Me fale sobre venda casada\"\n",
    "queries = expand_query(prompt)\n",
    "retrieved_docs = retriever_agent.get_relevant_documents(queries)\n",
    "\n",
    "response = generate_answer(question=prompt, documents=retrieved_docs)\n",
    "\n",
    "print(response)"
   ]
  },
  {
   "cell_type": "markdown",
   "id": "ff1979fc",
   "metadata": {},
   "source": [
    "### Criando o grafo da aplicação"
   ]
  },
  {
   "cell_type": "code",
   "execution_count": 2,
   "id": "75dc9578",
   "metadata": {},
   "outputs": [],
   "source": [
    "from IPython.display import Image, display\n",
    "\n",
    "class GraphState(TypedDict):\n",
    "    question: List[str]\n",
    "    documents: List[Document]\n",
    "    answer: str\n",
    "    verdict: FaithfulnessCheck\n",
    "\n",
    "# --- NÓS DO GRAFO ---\n",
    "def query_expander_node(state: GraphState):\n",
    "    \"Nó que executa o agente Query Expander\"\n",
    "    print(\" --- EXECUTANDO NÓ: QUERY EXPANDER ---\")\n",
    "    question = state['question']\n",
    "    question = expand_query(question)\n",
    "    return {\"question\": question}\n",
    "\n",
    "def retrieve_node(state: GraphState):\n",
    "    \"\"\"Nó que executa o agente Retriever.\"\"\"\n",
    "    print(\"--- EXECUTANDO NÓ: RETRIEVER ---\")\n",
    "    question = state[\"question\"]\n",
    "    documents = retriever_agent.get_relevant_documents(question)\n",
    "    return {\"documents\": documents}\n",
    "\n",
    "def answer_node(state: GraphState):\n",
    "    \"\"\"Nó que executa o agente Answerer.\"\"\"\n",
    "    print(\"--- EXECUTANDO NÓ: ANSWERER ---\")\n",
    "    question = state[\"question\"]\n",
    "    documents = state[\"documents\"]\n",
    "    answer = generate_answer(question, documents)\n",
    "    return {\"answer\": answer}\n",
    "\n",
    "def self_check_node(state: GraphState):\n",
    "    \"\"\"\n",
    "    Nó que executa o agente Self-Check.\n",
    "    Compara a resposta gerada com os documentos de evidência.\n",
    "    \"\"\"\n",
    "    print(\"--- EXECUTANDO NÓ: SELF-CHECK ---\")\n",
    "    answer = state[\"answer\"]\n",
    "    documents = state[\"documents\"]\n",
    "    \n",
    "    verdict_obj = check_faithfulness(answer, documents)\n",
    "    print(f\"--- VEREDITO DO SELF-CHECK: {verdict_obj.verdict} ---\")\n",
    "    return {\"verdict\": verdict_obj}\n",
    "\n",
    "# --- NÓ DE ROTEAMENTO CONDICIONAL ---\n",
    "\n",
    "def route_after_check(state: GraphState) -> Literal[\"end_safe\", \"retry_or_fail\"]:\n",
    "    \"\"\"\n",
    "    Decide para onde ir após a checagem de fidelidade.\n",
    "    \"\"\"\n",
    "    verdict = state[\"verdict\"].verdict\n",
    "    if verdict == \"fiel\":\n",
    "        return \"end_safe\"\n",
    "    else:\n",
    "        return \"retry_or_fail\"\n",
    "\n",
    "def fail_node(state: GraphState):\n",
    "    \"\"\"\n",
    "    Nó de falha. Se a checagem falhar, retornamos uma resposta segura em vez\n",
    "    da resposta alucinada/incorreta.\n",
    "    \"\"\"\n",
    "    print(\"--- EXECUTANDO NÓ: FALHA (RESPOSTA NÃO FIEL) ---\")\n",
    "    verdict_reason = state[\"verdict\"].reasoning\n",
    "    safe_answer = (\n",
    "        \"Não consegui gerar uma resposta confiável com base nos documentos disponíveis. \"\n",
    "        f\"(Motivo da falha interna: {verdict_reason})\"\n",
    "    )\n",
    "    return {\"answer\": safe_answer}\n",
    "\n",
    "# --- CONSTRUÇÃO DO GRAFO ---\n",
    "\n",
    "def build_graph():\n",
    "    \"\"\"\n",
    "    Constrói o grafo LangGraph conectando os nós com lógica condicional.\n",
    "    \"\"\"\n",
    "    workflow = StateGraph(GraphState)\n",
    "    \n",
    "    workflow.add_node(\"query_expander\", query_expander_node)\n",
    "    workflow.add_node(\"retriever\", retrieve_node)\n",
    "    workflow.add_node(\"answerer\", answer_node)\n",
    "    workflow.add_node(\"self_check\", self_check_node)\n",
    "    workflow.add_node(\"fail_node\", fail_node)\n",
    "    \n",
    "    workflow.set_entry_point(\"query_expander\")\n",
    "    \n",
    "    workflow.add_edge(\"query_expander\", \"retriever\")\n",
    "    workflow.add_edge(\"retriever\", \"answerer\")\n",
    "    workflow.add_edge(\"answerer\", \"self_check\")\n",
    "\n",
    "    workflow.add_conditional_edges(\n",
    "        \"self_check\",                   \n",
    "        route_after_check,              \n",
    "        {\n",
    "            \"end_safe\": END,\n",
    "            \"retry_or_fail\": \"fail_node\" \n",
    "        }\n",
    "    )\n",
    "    \n",
    "    workflow.add_edge(\"fail_node\", END)\n",
    "\n",
    "    app = workflow.compile()\n",
    "    return app"
   ]
  },
  {
   "cell_type": "code",
   "execution_count": 3,
   "id": "74bc7ee8",
   "metadata": {},
   "outputs": [
    {
     "data": {
      "image/png": "[encoded data removed]",
      "text/plain": [
       "<IPython.core.display.Image object>"
      ]
     },
     "metadata": {},
     "output_type": "display_data"
    }
   ],
   "source": [
    "graph = build_graph()\n",
    "display(Image(graph.get_graph().draw_mermaid_png()))"
   ]
  },
  {
   "cell_type": "markdown",
   "id": "bf1518be",
   "metadata": {},
   "source": [
    "### Testando com um exemplo bom (Com depuração)"
   ]
  },
  {
   "cell_type": "code",
   "execution_count": 4,
   "id": "516b1493",
   "metadata": {},
   "outputs": [
    {
     "name": "stdout",
     "output_type": "stream",
     "text": [
      "\n",
      "--- INICIANDO EXECUÇÃO DO GRAFO (COM SELF-CHECK) ---\n",
      " --- EXECUTANDO NÓ: QUERY EXPANDER ---\n",
      "--- CONSULTAS EXPANDIDAS: ['o que é venda condicionada no código do consumidor', 'venda casada equivalente jurídico', 'proibição de venda condicionada lei', 'venda casada no código do consumidor', 'venda condicionada lei brasileira', 'Me fale sobre venda condicionada'] ---\n",
      "\n",
      "Nó 'query_expander' finalizado.\n",
      "--- EXECUTANDO NÓ: RETRIEVER ---\n",
      "\n",
      "Nó 'retriever' finalizado.\n",
      "--- EXECUTANDO NÓ: ANSWERER ---\n",
      "\n",
      "Nó 'answerer' finalizado.\n",
      "--- EXECUTANDO NÓ: SELF-CHECK ---\n",
      "--- VEREDITO DO SELF-CHECK: fiel ---\n",
      "\n",
      "Nó 'self_check' finalizado.\n",
      "--- VEREDITO DO SELF-CHECK: fiel ---\n",
      "\n",
      "--- EXECUÇÃO DO GRAFO CONCLUÍDA ---\n",
      "\n",
      "--- RESPOSTA FINAL (PÓS-VERIFICAÇÃO) ---\n",
      "\n",
      "Com base nos documentos fornecidos, não encontrei informações sobre a venda condicionada no contexto do Código de Defesa do Consumidor.\n"
     ]
    }
   ],
   "source": [
    "inputs = {\"question\": \"Me fale venda casada\"}\n",
    "    \n",
    "print(\"\\n--- INICIANDO EXECUÇÃO DO GRAFO (COM SELF-CHECK) ---\")\n",
    "\n",
    "final_aggregated_state = {}\n",
    "\n",
    "for output in graph.stream(inputs):\n",
    "\n",
    "    node_name, patch = list(output.items())[0]\n",
    "    \n",
    "    print(f\"\\nNó '{node_name}' finalizado.\")\n",
    "    \n",
    "    final_aggregated_state.update(patch)\n",
    "    \n",
    "    if node_name == \"self_check\":\n",
    "        print(f\"--- VEREDITO DO SELF-CHECK: {patch['verdict'].verdict} ---\")\n",
    "        \n",
    "        \n",
    "# --- Fim do Grafo ---\n",
    "print(\"\\n--- EXECUÇÃO DO GRAFO CONCLUÍDA ---\")\n",
    "\n",
    "final_answer = final_aggregated_state.get(\"answer\", \"ERRO: Chave 'answer' não encontrada no estado final.\")\n",
    "\n",
    "print(\"\\n--- RESPOSTA FINAL (PÓS-VERIFICAÇÃO) ---\\n\")\n",
    "print(final_answer)\n"
   ]
  },
  {
   "cell_type": "markdown",
   "id": "838977d8",
   "metadata": {},
   "source": [
    "### Testando com um exemplo ruim"
   ]
  },
  {
   "cell_type": "code",
   "execution_count": 8,
   "id": "172cd775",
   "metadata": {},
   "outputs": [
    {
     "name": "stdout",
     "output_type": "stream",
     "text": [
      "--- EXECUTANDO NÓ: RETRIEVER ---\n",
      "--- EXECUTANDO NÓ: ANSWERER ---\n",
      "--- Utilizando o provedor de LLM: gemini | Modelo: gemini-2.5-flash ---\n",
      "--- EXECUTANDO NÓ: SELF-CHECK ---\n",
      "--- Utilizando o provedor de LLM: gemini | Modelo: gemini-2.5-flash ---\n",
      "--- VEREDITO DO SELF-CHECK: nao_fiel ---\n",
      "--- EXECUTANDO NÓ: FALHA (RESPOSTA NÃO FIEL) ---\n",
      "\n",
      "--- RESPOSTA FINAL (PÓS-VERIFICAÇÃO) ---\n",
      "\n",
      "Não consegui gerar uma resposta confiável com base nos documentos disponíveis. (Motivo da falha interna: A resposta afirma 'não encontrei informações sobre este tópico'. Esta é uma afirmação factual sobre o resultado da busca do modelo. No entanto, as regras de fidelidade exigem que 'todas as afirmações factuais na resposta estejam DIRETAMENTE E SEMANTICAMENTE suportadas por trechos nos documentos de evidência'. Os documentos de evidência fornecidos *contêm* diversas informações. A afirmação de que 'não encontrei informações' não é suportada por nenhum trecho dos documentos. Os documentos não contêm uma declaração de que não há informações sobre um tópico. Pelo contrário, eles contêm informações. Portanto, a afirmação do modelo não é fiel às evidências fornecidas, pois não pode ser diretamente verificada ou suportada por um trecho dos documentos. A resposta faz uma afirmação sobre a ausência de informação, que não é uma informação *presente* nos documentos para ser citada ou suportada por eles.)\n",
      "\n",
      "--- DADOS DE VERIFICAÇÃO ---\n",
      "Veredito: nao_fiel\n",
      "Motivo: A resposta afirma 'não encontrei informações sobre este tópico'. Esta é uma afirmação factual sobre o resultado da busca do modelo. No entanto, as regras de fidelidade exigem que 'todas as afirmações factuais na resposta estejam DIRETAMENTE E SEMANTICAMENTE suportadas por trechos nos documentos de evidência'. Os documentos de evidência fornecidos *contêm* diversas informações. A afirmação de que 'não encontrei informações' não é suportada por nenhum trecho dos documentos. Os documentos não contêm uma declaração de que não há informações sobre um tópico. Pelo contrário, eles contêm informações. Portanto, a afirmação do modelo não é fiel às evidências fornecidas, pois não pode ser diretamente verificada ou suportada por um trecho dos documentos. A resposta faz uma afirmação sobre a ausência de informação, que não é uma informação *presente* nos documentos para ser citada ou suportada por eles.\n"
     ]
    }
   ],
   "source": [
    "inputs = {\"question\": \"Quem foi michel jackson?\"}\n",
    "    \n",
    "final_state = graph.invoke(inputs)\n",
    "\n",
    "final_answer = final_state.get(\"answer\", \"ERRO: Chave 'answer' não encontrada no estado final.\")\n",
    "\n",
    "print(\"\\n--- RESPOSTA FINAL (PÓS-VERIFICAÇÃO) ---\\n\")\n",
    "print(final_answer)\n",
    "\n",
    "print(\"\\n--- DADOS DE VERIFICAÇÃO ---\")\n",
    "print(f\"Veredito: {final_state['verdict'].verdict}\")\n",
    "print(f\"Motivo: {final_state['verdict'].reasoning}\")"
   ]
  }
 ],
 "metadata": {
  "kernelspec": {
   "display_name": "dr-llama.env",
   "language": "python",
   "name": "python3"
  },
  "language_info": {
   "codemirror_mode": {
    "name": "ipython",
    "version": 3
   },
   "file_extension": ".py",
   "mimetype": "text/x-python",
   "name": "python",
   "nbconvert_exporter": "python",
   "pygments_lexer": "ipython3",
   "version": "3.12.9"
  }
 },
 "nbformat": 4,
 "nbformat_minor": 5
}
