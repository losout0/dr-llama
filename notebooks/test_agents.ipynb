{
 "cells": [
  {
   "cell_type": "markdown",
   "id": "2086739f",
   "metadata": {},
   "source": [
    "## **Testando os agentes de recuperação de documentos e geração de texto**"
   ]
  },
  {
   "cell_type": "markdown",
   "id": "2693d60a",
   "metadata": {},
   "source": [
    "### Importações necessárias"
   ]
  },
  {
   "cell_type": "code",
   "execution_count": 1,
   "id": "ca3d512c",
   "metadata": {},
   "outputs": [],
   "source": [
    "import sys\n",
    "import os\n",
    "\n",
    "from typing import List, TypedDict\n",
    "from langchain_core.documents import Document\n",
    "from langgraph.graph import StateGraph, END\n",
    "\n",
    "sys.path.append(os.path.abspath(os.path.join(os.getcwd(), \"..\")))\n",
    "from src import retriever_agent"
   ]
  },
  {
   "cell_type": "markdown",
   "id": "6e883e13",
   "metadata": {},
   "source": [
    "### Recuperando documentos a partir de um prompt"
   ]
  },
  {
   "cell_type": "code",
   "execution_count": 3,
   "id": "ce85f1a1",
   "metadata": {},
   "outputs": [
    {
     "name": "stdout",
     "output_type": "stream",
     "text": [
      "[Document(id='92e4a2f8-f82d-4789-9c4c-c700c709b09b', metadata={'producer': 'Adobe PDF Library 10.0.1', 'creator': 'Adobe InDesign CS6 (Windows)', 'creationdate': '2017-10-18T12:07:27-02:00', 'moddate': '2017-10-18T12:20:15-02:00', 'trapped': '/False', 'source': 'data\\\\raw\\\\codigo_defesa_consumidor.pdf', 'total_pages': 135, 'page': 51, 'page_label': '50'}, page_content='§ 2o O cadastro será divulgado anualmen -\\nte, podendo o órgão responsável fazê-lo em \\nperíodo menor, sempre que julgue necessá -\\nrio, e conterá informações objetivas, claras e \\nverdadeiras sobre o objeto da reclamação, a \\nidentificação do fornecedor e o atendimento \\nou não da reclamação pelo fornecedor.\\n§ 3o Os cadastros deverão ser atualizados \\npermanentemente, por meio das devidas \\nanotações, não podendo conter informações \\nnegativas sobre fornecedores, referentes a pe -\\nríodo superior a cinco anos, contado da data \\nda intimação da decisão definitiva.\\nArt. 60.  Os cadastros de reclamações funda -\\nmentadas contra fornecedores são conside -\\nrados arquivos públicos, sendo informações \\ne fontes a todos acessíveis, gratuitamente, \\nvedada a utilização abusiva ou, por qualquer \\noutro modo, estranha à defesa e orientação \\ndos consumidores, ressalvada a hipótese de \\npublicidade comparativa.\\nArt. 61.  O consumidor ou fornecedor poderá \\nrequerer, em cinco dias a contar da divulgação'), Document(id='64e89678-d844-4b9d-9e67-f1b4b546a4a9', metadata={'producer': 'Adobe PDF Library 10.0.1', 'creator': 'Adobe InDesign CS6 (Windows)', 'creationdate': '2017-10-18T12:07:27-02:00', 'moddate': '2017-10-18T12:20:15-02:00', 'trapped': '/False', 'source': 'data\\\\raw\\\\codigo_defesa_consumidor.pdf', 'total_pages': 135, 'page': 15, 'page_label': '14'}, page_content='Art. 14.  O fornecedor de serviços responde, \\nindependentemente da existência de culpa, pela \\nreparação dos danos causados aos consumido-\\nres por defeitos relativos à prestação dos servi-\\nços, bem como por informações insuficientes \\nou inadequadas sobre sua fruição e riscos.'), Document(id='af59b9ad-2d60-4be8-a3a3-9be1e0b2c47c', metadata={'producer': 'Adobe PDF Library 10.0.1', 'creator': 'Adobe InDesign CS6 (Windows)', 'creationdate': '2017-10-18T12:07:27-02:00', 'moddate': '2017-10-18T12:20:15-02:00', 'trapped': '/False', 'source': 'data\\\\raw\\\\codigo_defesa_consumidor.pdf', 'total_pages': 135, 'page': 71, 'page_label': '70'}, page_content='IV – proceder à apuração da liquidez dos \\ncréditos do Cade, inscrevendo-os em dívida \\nativa para fins de cobrança administrativa ou \\njudicial;\\nV – tomar as medidas judiciais solicitadas \\npelo Tribunal ou pela Superintendência-Geral, \\nnecessárias à cessação de infrações da ordem \\neconômica ou à obtenção de documentos para \\na instrução de processos administrativos de \\nqualquer natureza;\\nVI – promover acordos judiciais nos pro -\\ncessos relativos a infrações contra a ordem \\neconômica, mediante autorização do Tribunal;\\nVII – emitir, sempre que solicitado expressa-\\nmente por Conselheiro ou pelo Superintenden-\\nte-Geral, parecer nos processos de competência \\ndo Cade, sem que tal determinação implique \\na suspensão do prazo de análise ou prejuízo à \\ntramitação normal do processo;\\nVIII – zelar pelo cumprimento desta Lei; e\\nIX – desincumbir-se das demais tarefas que \\nlhe sejam atribuídas pelo regimento interno.\\nParágrafo único. Compete à Procuradoria \\nFederal junto ao Cade, ao dar execução judi -'), Document(id='e647e090-3b28-443a-b45b-4da5c8359494', metadata={'producer': 'Adobe PDF Library 10.0.1', 'creator': 'Adobe InDesign CS6 (Windows)', 'creationdate': '2017-10-18T12:07:27-02:00', 'moddate': '2017-10-18T12:20:15-02:00', 'trapped': '/False', 'source': 'data\\\\raw\\\\codigo_defesa_consumidor.pdf', 'total_pages': 135, 'page': 32, 'page_label': '31'}, page_content='seguintes informações:\\nI – nome empresarial e número de inscrição \\ndo fornecedor, quando houver, no Cadastro \\nNacional de Pessoas Físicas ou no Cadastro \\nNacional de Pessoas Jurídicas do Ministério \\nda Fazenda;\\nII – endereço físico e eletrônico, e demais \\ninformações necessárias para sua localização \\ne contato;\\nIII – características essenciais do produto \\nou do serviço, incluídos os riscos à saúde e à \\nsegurança dos consumidores;\\nIV – discriminação, no preço, de quaisquer \\ndespesas adicionais ou acessórias, tais como as \\nde entrega ou seguros;\\nV – condições integrais da oferta, incluídas \\nmodalidades de pagamento, disponibilidade, \\nforma e prazo da execução do serviço ou da \\nentrega ou disponibilização do produto; e\\nVI – informações claras e ostensivas a respei-\\nto de quaisquer restrições à fruição da oferta.\\nArt. 3 o Os sítios eletrônicos ou demais meios \\neletrônicos utilizados para ofertas de compras \\ncoletivas ou modalidades análogas de contra -')]\n"
     ]
    }
   ],
   "source": [
    "print(retriever_agent.get_relevant_documents(\"Quais são os direitos básicos do fornecedor?\"))"
   ]
  },
  {
   "cell_type": "code",
   "execution_count": 4,
   "id": "cb30f941",
   "metadata": {},
   "outputs": [
    {
     "name": "stdout",
     "output_type": "stream",
     "text": [
      "[Document(id='7c2f51b9-4821-4111-8894-9815d88c36aa', metadata={'producer': 'Adobe PDF Library 17.0', 'creator': 'Adobe InDesign 19.5 (Windows)', 'creationdate': '2025-04-01T09:42:42-03:00', 'author': 'Senado Federal', 'moddate': '2025-04-01T09:54:25-03:00', 'title': 'Constituição da República Federativa do Brasil', 'trapped': '/False', 'source': 'data\\\\raw\\\\constituicao_federal.pdf', 'total_pages': 189, 'page': 4, 'page_label': '5'}, page_content='SUMÁRIO\\nPreâmbulo ...........................................................................................................................................................................11\\nTítulo I – Dos Princípios Fundamentais .......................................................................................................................11\\nTítulo II – Dos Direitos e Garantias Fundamentais ...................................................................................................11\\nCapítulo I – Dos Direitos e Deveres Individuais e Coletivos ........................................................................................11\\nCapítulo II – Dos Direitos Sociais .....................................................................................................................................14\\nCapítulo III – Da Nacionalidade .......................................................................................................................................15'), Document(id='47eb69a0-606e-47fd-bd76-032874602f1e', metadata={'producer': 'Adobe PDF Library 17.0', 'creator': 'Adobe InDesign 19.5 (Windows)', 'creationdate': '2025-04-01T09:42:42-03:00', 'author': 'Senado Federal', 'moddate': '2025-04-01T09:54:25-03:00', 'title': 'Constituição da República Federativa do Brasil', 'trapped': '/False', 'source': 'data\\\\raw\\\\constituicao_federal.pdf', 'total_pages': 189, 'page': 12, 'page_label': '13'}, page_content='LXXIX – é assegurado, nos termos da lei, o direito à \\nproteção dos dados pessoais, inclusive nos meios digitais.\\n§ 1o As normas definidoras dos direitos e garantias \\nfundamentais têm aplicação imediata.\\n§ 2o Os direitos e garantias expressos nesta Consti-\\ntuição não excluem outros decorrentes do regime e dos \\nprincípios por ela adotados, ou dos tratados internacio-\\nnais em que a República Federativa do Brasil seja parte.\\n§ 3o Os tratados e convenções internacionais sobre \\ndireitos humanos que forem aprovados, em cada Casa \\ndo Congresso Nacional, em dois turnos, por três quintos'), Document(id='2225947d-618c-49e2-a071-2a0820cb904e', metadata={'producer': 'Adobe PDF Library 17.0', 'creator': 'Adobe InDesign 19.5 (Windows)', 'creationdate': '2025-04-01T09:42:42-03:00', 'author': 'Senado Federal', 'moddate': '2025-04-01T09:54:25-03:00', 'title': 'Constituição da República Federativa do Brasil', 'trapped': '/False', 'source': 'data\\\\raw\\\\constituicao_federal.pdf', 'total_pages': 189, 'page': 184, 'page_label': '185'}, page_content='tarão na manutenção de direitos separados para grupos \\ndistintos e não se estenderão além de um período razoá-\\nvel ou após terem alcançado seu objetivo.\\nArtigo 6\\nOs Estados Partes comprometem-se a formular e imple-\\nmentar políticas cujo propósito seja proporcionar tra-\\ntamento equitativo e gerar igualdade de oportunidades \\npara todas as pessoas, em conformidade com o alcance \\ndesta Convenção; entre elas políticas de caráter educacio-\\nnal, medidas trabalhistas ou sociais, ou qualquer outro \\ntipo de política promocional, e a divulgação da legislação \\nsobre o assunto por todos os meios possíveis, inclusive \\npelos meios de comunicação de massa e pela internet.'), Document(id='59f86b13-c9b7-4117-ad01-13a67cc92d61', metadata={'producer': 'Adobe PDF Library 17.0', 'creator': 'Adobe InDesign 19.5 (Windows)', 'creationdate': '2025-04-01T09:42:42-03:00', 'author': 'Senado Federal', 'moddate': '2025-04-01T09:54:25-03:00', 'title': 'Constituição da República Federativa do Brasil', 'trapped': '/False', 'source': 'data\\\\raw\\\\constituicao_federal.pdf', 'total_pages': 189, 'page': 38, 'page_label': '39'}, page_content='sobre todos os demais débitos, exceto sobre aqueles \\nreferidos no §\\xa02o deste artigo.\\n§ 2o Os débitos de natureza alimentícia cujos titula-\\nres, originários ou por sucessão hereditária, tenham 60 \\n(sessenta) anos de idade, ou sejam portadores de doença \\ngrave, ou pessoas com deficiência, assim definidos na \\nforma da lei, serão pagos com preferência sobre todos os \\ndemais débitos, até o valor equivalente ao triplo fixado \\nem lei para os fins do disposto no §\\xa03 o deste artigo, \\nadmitido o fracionamento para essa finalidade, sendo \\nque o restante será pago na ordem cronológica de apre-\\nsentação do precatório.\\n§ 3o O disposto no caput deste artigo relativamente à \\nexpedição de precatórios não se aplica aos pagamentos \\nde obrigações definidas em leis como de pequeno valor \\nque as Fazendas referidas devam fazer em virtude de \\nsentença judicial transitada em julgado.\\n§ 4o Para os fins do disposto no §\\xa03 o, poderão ser \\nfixados, por leis próprias, valores distintos às entidades')]\n"
     ]
    }
   ],
   "source": [
    "print(retriever_agent.get_relevant_documents(\"Todos tem direito\"))"
   ]
  }
 ],
 "metadata": {
  "kernelspec": {
   "display_name": "dr-llama.env",
   "language": "python",
   "name": "python3"
  },
  "language_info": {
   "codemirror_mode": {
    "name": "ipython",
    "version": 3
   },
   "file_extension": ".py",
   "mimetype": "text/x-python",
   "name": "python",
   "nbconvert_exporter": "python",
   "pygments_lexer": "ipython3",
   "version": "3.12.9"
  }
 },
 "nbformat": 4,
 "nbformat_minor": 5
}
