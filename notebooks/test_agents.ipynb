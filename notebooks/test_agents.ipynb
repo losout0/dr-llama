{
 "cells": [
  {
   "cell_type": "markdown",
   "id": "2086739f",
   "metadata": {},
   "source": [
    "## **Testando os agentes de recuperação de documentos e geração de texto**"
   ]
  },
  {
   "cell_type": "markdown",
   "id": "2693d60a",
   "metadata": {},
   "source": [
    "### Importações necessárias"
   ]
  },
  {
   "cell_type": "code",
   "execution_count": 1,
   "id": "ca3d512c",
   "metadata": {},
   "outputs": [],
   "source": [
    "import sys\n",
    "import os\n",
    "\n",
    "from typing import List, TypedDict, Literal\n",
    "from langchain_core.documents import Document\n",
    "from langgraph.graph import StateGraph, END\n",
    "\n",
    "sys.path.append(os.path.abspath(os.path.join(os.getcwd(), \"..\")))\n",
    "from src import retriever_agent, generate_answer, check_faithfulness, FaithfulnessCheck"
   ]
  },
  {
   "cell_type": "markdown",
   "id": "6e883e13",
   "metadata": {},
   "source": [
    "### Recuperando documentos a partir de um prompt"
   ]
  },
  {
   "cell_type": "code",
   "execution_count": 2,
   "id": "ce85f1a1",
   "metadata": {},
   "outputs": [
    {
     "name": "stdout",
     "output_type": "stream",
     "text": [
      "[Document(id='acee8045-f791-46a9-b2ee-68407c935acf', metadata={'producer': 'Adobe PDF Library 10.0.1', 'creator': 'Adobe InDesign CS6 (Windows)', 'creationdate': '2017-10-18T12:07:27-02:00', 'moddate': '2017-10-18T12:20:15-02:00', 'trapped': '/False', 'source': 'codigo_defesa_consumidor.pdf', 'total_pages': 135, 'page': 51, 'page_label': '50', 'pretty_name': 'Código de defesa do consumidor'}, page_content='§ 2o O cadastro será divulgado anualmen -\\nte, podendo o órgão responsável fazê-lo em \\nperíodo menor, sempre que julgue necessá -\\nrio, e conterá informações objetivas, claras e \\nverdadeiras sobre o objeto da reclamação, a \\nidentificação do fornecedor e o atendimento \\nou não da reclamação pelo fornecedor.\\n§ 3o Os cadastros deverão ser atualizados \\npermanentemente, por meio das devidas \\nanotações, não podendo conter informações \\nnegativas sobre fornecedores, referentes a pe -\\nríodo superior a cinco anos, contado da data \\nda intimação da decisão definitiva.\\nArt. 60.  Os cadastros de reclamações funda -\\nmentadas contra fornecedores são conside -\\nrados arquivos públicos, sendo informações \\ne fontes a todos acessíveis, gratuitamente, \\nvedada a utilização abusiva ou, por qualquer \\noutro modo, estranha à defesa e orientação \\ndos consumidores, ressalvada a hipótese de \\npublicidade comparativa.\\nArt. 61.  O consumidor ou fornecedor poderá \\nrequerer, em cinco dias a contar da divulgação'), Document(id='a1715455-3d8f-4cca-a4aa-db57af73121b', metadata={'producer': 'Adobe PDF Library 10.0.1', 'creator': 'Adobe InDesign CS6 (Windows)', 'creationdate': '2017-10-18T12:07:27-02:00', 'moddate': '2017-10-18T12:20:15-02:00', 'trapped': '/False', 'source': 'codigo_defesa_consumidor.pdf', 'total_pages': 135, 'page': 15, 'page_label': '14', 'pretty_name': 'Código de defesa do consumidor'}, page_content='Art. 14.  O fornecedor de serviços responde, \\nindependentemente da existência de culpa, pela \\nreparação dos danos causados aos consumido-\\nres por defeitos relativos à prestação dos servi-\\nços, bem como por informações insuficientes \\nou inadequadas sobre sua fruição e riscos.'), Document(id='2f458616-5b50-4ec7-86b8-7e337a86f423', metadata={'producer': 'Adobe PDF Library 10.0.1', 'creator': 'Adobe InDesign CS6 (Windows)', 'creationdate': '2017-10-18T12:07:27-02:00', 'moddate': '2017-10-18T12:20:15-02:00', 'trapped': '/False', 'source': 'codigo_defesa_consumidor.pdf', 'total_pages': 135, 'page': 71, 'page_label': '70', 'pretty_name': 'Código de defesa do consumidor'}, page_content='IV – proceder à apuração da liquidez dos \\ncréditos do Cade, inscrevendo-os em dívida \\nativa para fins de cobrança administrativa ou \\njudicial;\\nV – tomar as medidas judiciais solicitadas \\npelo Tribunal ou pela Superintendência-Geral, \\nnecessárias à cessação de infrações da ordem \\neconômica ou à obtenção de documentos para \\na instrução de processos administrativos de \\nqualquer natureza;\\nVI – promover acordos judiciais nos pro -\\ncessos relativos a infrações contra a ordem \\neconômica, mediante autorização do Tribunal;\\nVII – emitir, sempre que solicitado expressa-\\nmente por Conselheiro ou pelo Superintenden-\\nte-Geral, parecer nos processos de competência \\ndo Cade, sem que tal determinação implique \\na suspensão do prazo de análise ou prejuízo à \\ntramitação normal do processo;\\nVIII – zelar pelo cumprimento desta Lei; e\\nIX – desincumbir-se das demais tarefas que \\nlhe sejam atribuídas pelo regimento interno.\\nParágrafo único. Compete à Procuradoria \\nFederal junto ao Cade, ao dar execução judi -'), Document(id='da0af5d2-5d52-4d90-8bb8-a39c24252213', metadata={'producer': 'Adobe PDF Library 10.0.1', 'creator': 'Adobe InDesign CS6 (Windows)', 'creationdate': '2017-10-18T12:07:27-02:00', 'moddate': '2017-10-18T12:20:15-02:00', 'trapped': '/False', 'source': 'codigo_defesa_consumidor.pdf', 'total_pages': 135, 'page': 32, 'page_label': '31', 'pretty_name': 'Código de defesa do consumidor'}, page_content='seguintes informações:\\nI – nome empresarial e número de inscrição \\ndo fornecedor, quando houver, no Cadastro \\nNacional de Pessoas Físicas ou no Cadastro \\nNacional de Pessoas Jurídicas do Ministério \\nda Fazenda;\\nII – endereço físico e eletrônico, e demais \\ninformações necessárias para sua localização \\ne contato;\\nIII – características essenciais do produto \\nou do serviço, incluídos os riscos à saúde e à \\nsegurança dos consumidores;\\nIV – discriminação, no preço, de quaisquer \\ndespesas adicionais ou acessórias, tais como as \\nde entrega ou seguros;\\nV – condições integrais da oferta, incluídas \\nmodalidades de pagamento, disponibilidade, \\nforma e prazo da execução do serviço ou da \\nentrega ou disponibilização do produto; e\\nVI – informações claras e ostensivas a respei-\\nto de quaisquer restrições à fruição da oferta.\\nArt. 3 o Os sítios eletrônicos ou demais meios \\neletrônicos utilizados para ofertas de compras \\ncoletivas ou modalidades análogas de contra -')]\n"
     ]
    }
   ],
   "source": [
    "print(retriever_agent.get_relevant_documents(\"Quais são os direitos básicos do fornecedor?\"))"
   ]
  },
  {
   "cell_type": "code",
   "execution_count": 3,
   "id": "cb30f941",
   "metadata": {},
   "outputs": [
    {
     "name": "stdout",
     "output_type": "stream",
     "text": [
      "[Document(id='86e2bb79-af30-4729-aa79-21246ba983d4', metadata={'producer': 'Adobe PDF Library 10.0.1', 'creator': 'Adobe InDesign CS6 (Windows)', 'creationdate': '2017-10-18T12:07:27-02:00', 'moddate': '2017-10-18T12:20:15-02:00', 'trapped': '/False', 'source': 'codigo_defesa_consumidor.pdf', 'total_pages': 135, 'page': 103, 'page_label': '102', 'pretty_name': 'Código de defesa do consumidor'}, page_content='para a cobertura dos casos de urgência e \\nemergência;\\nVI – reembolso, em todos os tipos de pro -\\ndutos de que tratam o inciso I e o §\\xa01o do art.\\xa01o \\ndesta Lei, nos limites das obrigações contra -\\ntuais, das despesas efetuadas pelo beneficiário \\ncom assistência à saúde, em casos de urgência \\nou emergência, quando não for possível a \\nutilização dos serviços próprios, contratados, \\ncredenciados ou referenciados pelas opera -\\ndoras, de acordo com a relação de preços de \\nserviços médicos e hospitalares praticados pelo \\nrespectivo produto, pagáveis no prazo máximo \\nde trinta dias após a entrega da documentação \\nadequada;\\nVII – inscrição de filho adotivo, menor de \\ndoze anos de idade, aproveitando os períodos \\nde carência já cumpridos pelo consumidor \\nadotante.\\n§ 1o Após cento e vinte dias da vigência des-\\nta Lei, fica proibido o oferecimento de produtos \\nde que tratam o inciso I e o §\\xa01o do art.\\xa01o desta \\nLei fora das segmentações de que trata este'), Document(id='19417acd-27c5-49f1-84a0-4d818a21402a', metadata={'producer': 'Adobe PDF Library 17.0', 'creator': 'Adobe InDesign 19.5 (Windows)', 'creationdate': '2025-04-01T09:42:42-03:00', 'author': 'Senado Federal', 'moddate': '2025-04-01T09:54:25-03:00', 'title': 'Constituição da República Federativa do Brasil', 'trapped': '/False', 'source': 'constituicao_federal.pdf', 'total_pages': 189, 'page': 174, 'page_label': '175', 'pretty_name': 'Constituição Federal'}, page_content='no trigésimo dia a partir da data em que esse Estado \\nou organização tenha depositado seu instrumento de \\nratificação, confirmação formal ou adesão.\\nArtigo 46 – Reservas\\n1. Não serão permitidas reservas incompatíveis com o \\nobjeto e o propósito da presente Convenção.\\n2. As reservas poderão ser retiradas a qualquer \\nmomento.'), Document(id='5a9be555-3560-4b47-881d-85b09f8e46b0', metadata={'producer': 'Adobe PDF Library 10.0.1', 'creator': 'Adobe InDesign CS6 (Windows)', 'creationdate': '2017-10-18T12:07:27-02:00', 'moddate': '2017-10-18T12:20:15-02:00', 'trapped': '/False', 'source': 'codigo_defesa_consumidor.pdf', 'total_pages': 135, 'page': 113, 'page_label': '112', 'pretty_name': 'Código de defesa do consumidor'}, page_content='permita atingir o reajuste integral no início do \\núltimo ano da faixa etária considerada;\\nII – para aplicação da fórmula de diluição, \\nconsideram-se de dez anos as faixas etárias que \\ntenham sido estipuladas sem limite superior;\\nIII – a nova cláusula, contendo a fórmula de \\naplicação do reajuste, deverá ser encaminhada \\naos consumidores, juntamente com o boleto \\nou título de cobrança, com a demonstração \\ndo valor originalmente contratado, do valor \\nrepactuado e do percentual de reajuste anual \\nfixo, esclarecendo, ainda, que o seu pagamento \\nformalizará esta repactuação;'), Document(id='2707f261-b6ce-4936-93d8-b76584da2db4', metadata={'producer': 'Adobe PDF Library 10.0.1', 'creator': 'Adobe InDesign CS6 (Windows)', 'creationdate': '2017-10-18T12:07:27-02:00', 'moddate': '2017-10-18T12:20:15-02:00', 'trapped': '/False', 'source': 'codigo_defesa_consumidor.pdf', 'total_pages': 135, 'page': 81, 'page_label': '80', 'pretty_name': 'Código de defesa do consumidor'}, page_content='serem produzidas; ou\\nIII – não conhecerá do recurso, determinan-\\ndo o seu arquivamento.\\n§ 2o As requerentes poderão manifestar-se \\nacerca do recurso interposto, em até 5 (cinco) \\ndias úteis do conhecimento do recurso no Tri-\\nbunal ou da data do recebimento do relatório \\ncom a conclusão da instrução complementar \\nelaborada pela Superintendência-Geral, o que \\nocorrer por último.\\n§ 3o O litigante de má-fé arcará com mul -\\nta, em favor do Fundo de Defesa de Direitos \\nDifusos, a ser arbitrada pelo Tribunal entre \\nR$\\xa05.000,00 (cinco mil reais) e R$ 5.000.000,00 \\n(cinco milhões de reais), levando-se em consi-\\nderação sua condição econômica, sua atuação \\nno processo e o retardamento injustificado \\ncausado à aprovação do ato.\\n§ 4o A interposição do recurso a que se re-\\nfere o caput deste artigo ou a decisão de avocar \\nsuspende a execução do ato de concentração \\neconômica até decisão final do Tribunal.\\n§ 5o O Conselheiro-Relator poderá acom -\\npanhar a realização das diligências referidas')]\n"
     ]
    }
   ],
   "source": [
    "print(retriever_agent.get_relevant_documents(\"Reembolso\"))"
   ]
  },
  {
   "cell_type": "markdown",
   "id": "9c466946",
   "metadata": {},
   "source": [
    "### Gerando uma resposta a partir dos documentos"
   ]
  },
  {
   "cell_type": "code",
   "execution_count": 2,
   "id": "82848b20",
   "metadata": {},
   "outputs": [
    {
     "name": "stdout",
     "output_type": "stream",
     "text": [
      "--- Utilizando o provedor de LLM: gemini | Modelo: gemini-2.5-flash ---\n",
      "É vedado ao fornecedor de produtos ou serviços, dentre outras práticas abusivas:\n",
      "*   Condicionar o fornecimento de produto ou de serviço ao fornecimento de outro produto ou serviço, bem como, sem justa causa, a limites quantitativos [Fonte: Código de defesa do consumidor, Art. 39, I].\n",
      "*   Recusar atendimento às demandas dos consumidores, na exata medida de suas disponibilidades de estoque, e, ainda, de conformidade com os usos e costumes [Fonte: Código de defesa do consumidor, Art. 39, II].\n",
      "*   Enviar ou entregar ao consumidor, sem solicitação prévia, qualquer produto, ou fornecer qualquer serviço [Fonte: Código de defesa do consumidor, Art. 39, III].\n",
      "*   Prevalecer-se da fraqueza ou ignorância do consumidor, tendo em vista sua idade, saúde, conhecimento ou condição social, para impingir-lhe seus produtos ou serviços [Fonte: Código de defesa do consumidor, Art. 39, IV].\n",
      "*   Exigir do consumidor vantagem manifestamente excessiva [Fonte: Código de defesa do consumidor, Art. 39, V].\n",
      "*   Executar serviços sem a prévia elaboração [Fonte: Código de defesa do consumidor, Art. 39, VI].\n"
     ]
    }
   ],
   "source": [
    "prompt = \"Me fale sobre práticas abusivas\"\n",
    "retrieved_docs = retriever_agent.get_relevant_documents(question=prompt)\n",
    "\n",
    "response = generate_answer(question=prompt, documents=retrieved_docs)\n",
    "\n",
    "print(response)"
   ]
  },
  {
   "cell_type": "markdown",
   "id": "ff1979fc",
   "metadata": {},
   "source": [
    "### Criando o grafo da aplicação"
   ]
  },
  {
   "cell_type": "code",
   "execution_count": 4,
   "id": "75dc9578",
   "metadata": {},
   "outputs": [],
   "source": [
    "from IPython.display import Image, display\n",
    "\n",
    "class GraphState(TypedDict):\n",
    "    question: str\n",
    "    documents: List[Document]\n",
    "    answer: str\n",
    "    verdict: FaithfulnessCheck\n",
    "\n",
    "# --- NÓS DO GRAFO ---\n",
    "\n",
    "def retrieve_node(state: GraphState):\n",
    "    \"\"\"Nó que executa o agente Retriever.\"\"\"\n",
    "    print(\"--- EXECUTANDO NÓ: RETRIEVER ---\")\n",
    "    question = state[\"question\"]\n",
    "    documents = retriever_agent.get_relevant_documents(question)\n",
    "    return {\"documents\": documents}\n",
    "\n",
    "def answer_node(state: GraphState):\n",
    "    \"\"\"Nó que executa o agente Answerer.\"\"\"\n",
    "    print(\"--- EXECUTANDO NÓ: ANSWERER ---\")\n",
    "    question = state[\"question\"]\n",
    "    documents = state[\"documents\"]\n",
    "    answer = generate_answer(question, documents)\n",
    "    return {\"answer\": answer}\n",
    "\n",
    "def self_check_node(state: GraphState):\n",
    "    \"\"\"\n",
    "    Nó que executa o agente Self-Check.\n",
    "    Compara a resposta gerada com os documentos de evidência.\n",
    "    \"\"\"\n",
    "    print(\"--- EXECUTANDO NÓ: SELF-CHECK ---\")\n",
    "    answer = state[\"answer\"]\n",
    "    documents = state[\"documents\"]\n",
    "    \n",
    "    verdict_obj = check_faithfulness(answer, documents)\n",
    "    print(f\"--- VEREDITO DO SELF-CHECK: {verdict_obj.verdict} ---\")\n",
    "    return {\"verdict\": verdict_obj}\n",
    "\n",
    "# --- NÓ DE ROTEAMENTO CONDICIONAL ---\n",
    "\n",
    "def route_after_check(state: GraphState) -> Literal[\"end_safe\", \"retry_or_fail\"]:\n",
    "    \"\"\"\n",
    "    Decide para onde ir após a checagem de fidelidade.\n",
    "    \"\"\"\n",
    "    verdict = state[\"verdict\"].verdict\n",
    "    if verdict == \"fiel\":\n",
    "        return \"end_safe\"\n",
    "    else:\n",
    "        return \"retry_or_fail\"\n",
    "\n",
    "def fail_node(state: GraphState):\n",
    "    \"\"\"\n",
    "    Nó de falha. Se a checagem falhar, retornamos uma resposta segura em vez\n",
    "    da resposta alucinada/incorreta.\n",
    "    \"\"\"\n",
    "    print(\"--- EXECUTANDO NÓ: FALHA (RESPOSTA NÃO FIEL) ---\")\n",
    "    verdict_reason = state[\"verdict\"].reasoning\n",
    "    safe_answer = (\n",
    "        \"Não consegui gerar uma resposta confiável com base nos documentos disponíveis. \"\n",
    "        f\"(Motivo da falha interna: {verdict_reason})\"\n",
    "    )\n",
    "    return {\"answer\": safe_answer}\n",
    "\n",
    "# --- CONSTRUÇÃO DO GRAFO ---\n",
    "\n",
    "def build_graph():\n",
    "    \"\"\"\n",
    "    Constrói o grafo LangGraph conectando os nós com lógica condicional.\n",
    "    \"\"\"\n",
    "    workflow = StateGraph(GraphState)\n",
    "\n",
    "    workflow.add_node(\"retriever\", retrieve_node)\n",
    "    workflow.add_node(\"answerer\", answer_node)\n",
    "    workflow.add_node(\"self_check\", self_check_node)\n",
    "    workflow.add_node(\"fail_node\", fail_node)\n",
    "    \n",
    "    workflow.set_entry_point(\"retriever\")\n",
    "\n",
    "    workflow.add_edge(\"retriever\", \"answerer\")\n",
    "    workflow.add_edge(\"answerer\", \"self_check\")\n",
    "\n",
    "    workflow.add_conditional_edges(\n",
    "        \"self_check\",                   \n",
    "        route_after_check,              \n",
    "        {\n",
    "            \"end_safe\": END,\n",
    "            \"retry_or_fail\": \"fail_node\" \n",
    "        }\n",
    "    )\n",
    "    \n",
    "    workflow.add_edge(\"fail_node\", END)\n",
    "\n",
    "    app = workflow.compile()\n",
    "    return app"
   ]
  },
  {
   "cell_type": "code",
   "execution_count": 6,
   "id": "74bc7ee8",
   "metadata": {},
   "outputs": [
    {
     "data": {
      "image/png": "[encoded data removed]",
      "text/plain": [
       "<IPython.core.display.Image object>"
      ]
     },
     "metadata": {},
     "output_type": "display_data"
    }
   ],
   "source": [
    "graph = build_graph()\n",
    "display(Image(graph.get_graph().draw_mermaid_png()))"
   ]
  },
  {
   "cell_type": "markdown",
   "id": "bf1518be",
   "metadata": {},
   "source": [
    "### Testando com um exemplo bom (Com depuração)"
   ]
  },
  {
   "cell_type": "code",
   "execution_count": 7,
   "id": "516b1493",
   "metadata": {},
   "outputs": [
    {
     "name": "stdout",
     "output_type": "stream",
     "text": [
      "\n",
      "--- INICIANDO EXECUÇÃO DO GRAFO (COM SELF-CHECK) ---\n",
      "--- EXECUTANDO NÓ: RETRIEVER ---\n",
      "\n",
      "Nó 'retriever' finalizado.\n",
      "--- EXECUTANDO NÓ: ANSWERER ---\n",
      "--- Utilizando o provedor de LLM: gemini | Modelo: gemini-2.5-flash ---\n",
      "\n",
      "Nó 'answerer' finalizado.\n",
      "--- EXECUTANDO NÓ: SELF-CHECK ---\n",
      "--- Utilizando o provedor de LLM: gemini | Modelo: gemini-2.5-flash ---\n",
      "--- VEREDITO DO SELF-CHECK: fiel ---\n",
      "\n",
      "Nó 'self_check' finalizado.\n",
      "--- VEREDITO DO SELF-CHECK: fiel ---\n",
      "\n",
      "--- EXECUÇÃO DO GRAFO CONCLUÍDA ---\n",
      "\n",
      "--- RESPOSTA FINAL (PÓS-VERIFICAÇÃO) ---\n",
      "\n",
      "É vedado ao fornecedor de produtos ou serviços, dentre outras práticas abusivas:\n",
      "*   Condicionar o fornecimento de produto ou de serviço ao fornecimento de outro produto ou serviço, bem como, sem justa causa, a limites quantitativos [Fonte: Código de defesa do consumidor, Art. 39, I].\n",
      "*   Recusar atendimento às demandas dos consumidores, na exata medida de suas disponibilidades de estoque, e, ainda, de conformidade com os usos e costumes [Fonte: Código de defesa do consumidor, Art. 39, II].\n",
      "*   Enviar ou entregar ao consumidor, sem solicitação prévia, qualquer produto, ou fornecer qualquer serviço [Fonte: Código de defesa do consumidor, Art. 39, III].\n",
      "*   Prevalecer-se da fraqueza ou ignorância do consumidor, tendo em vista sua idade, saúde, conhecimento ou condição social, para impingir-lhe seus produtos ou serviços [Fonte: Código de defesa do consumidor, Art. 39, IV].\n",
      "*   Exigir do consumidor vantagem manifestamente excessiva [Fonte: Código de defesa do consumidor, Art. 39, V].\n",
      "*   Executar serviços sem a prévia elaboração [Fonte: Código de defesa do consumidor, Art. 39, VI].\n"
     ]
    }
   ],
   "source": [
    "inputs = {\"question\": \"Me fale sobre práticas abusivas\"}\n",
    "    \n",
    "print(\"\\n--- INICIANDO EXECUÇÃO DO GRAFO (COM SELF-CHECK) ---\")\n",
    "\n",
    "final_aggregated_state = {}\n",
    "\n",
    "for output in graph.stream(inputs):\n",
    "\n",
    "    node_name, patch = list(output.items())[0]\n",
    "    \n",
    "    print(f\"\\nNó '{node_name}' finalizado.\")\n",
    "    \n",
    "    final_aggregated_state.update(patch)\n",
    "    \n",
    "    if node_name == \"self_check\":\n",
    "        print(f\"--- VEREDITO DO SELF-CHECK: {patch['verdict'].verdict} ---\")\n",
    "        \n",
    "        \n",
    "# --- Fim do Grafo ---\n",
    "print(\"\\n--- EXECUÇÃO DO GRAFO CONCLUÍDA ---\")\n",
    "\n",
    "final_answer = final_aggregated_state.get(\"answer\", \"ERRO: Chave 'answer' não encontrada no estado final.\")\n",
    "\n",
    "print(\"\\n--- RESPOSTA FINAL (PÓS-VERIFICAÇÃO) ---\\n\")\n",
    "print(final_answer)\n"
   ]
  },
  {
   "cell_type": "markdown",
   "id": "838977d8",
   "metadata": {},
   "source": [
    "### Testando com um exemplo ruim"
   ]
  },
  {
   "cell_type": "code",
   "execution_count": 8,
   "id": "172cd775",
   "metadata": {},
   "outputs": [
    {
     "name": "stdout",
     "output_type": "stream",
     "text": [
      "--- EXECUTANDO NÓ: RETRIEVER ---\n",
      "--- EXECUTANDO NÓ: ANSWERER ---\n",
      "--- Utilizando o provedor de LLM: gemini | Modelo: gemini-2.5-flash ---\n",
      "--- EXECUTANDO NÓ: SELF-CHECK ---\n",
      "--- Utilizando o provedor de LLM: gemini | Modelo: gemini-2.5-flash ---\n",
      "--- VEREDITO DO SELF-CHECK: nao_fiel ---\n",
      "--- EXECUTANDO NÓ: FALHA (RESPOSTA NÃO FIEL) ---\n",
      "\n",
      "--- RESPOSTA FINAL (PÓS-VERIFICAÇÃO) ---\n",
      "\n",
      "Não consegui gerar uma resposta confiável com base nos documentos disponíveis. (Motivo da falha interna: A resposta afirma 'não encontrei informações sobre este tópico'. Esta é uma afirmação factual sobre o resultado da busca do modelo. No entanto, as regras de fidelidade exigem que 'todas as afirmações factuais na resposta estejam DIRETAMENTE E SEMANTICAMENTE suportadas por trechos nos documentos de evidência'. Os documentos de evidência fornecidos *contêm* diversas informações. A afirmação de que 'não encontrei informações' não é suportada por nenhum trecho dos documentos. Os documentos não contêm uma declaração de que não há informações sobre um tópico. Pelo contrário, eles contêm informações. Portanto, a afirmação do modelo não é fiel às evidências fornecidas, pois não pode ser diretamente verificada ou suportada por um trecho dos documentos. A resposta faz uma afirmação sobre a ausência de informação, que não é uma informação *presente* nos documentos para ser citada ou suportada por eles.)\n",
      "\n",
      "--- DADOS DE VERIFICAÇÃO ---\n",
      "Veredito: nao_fiel\n",
      "Motivo: A resposta afirma 'não encontrei informações sobre este tópico'. Esta é uma afirmação factual sobre o resultado da busca do modelo. No entanto, as regras de fidelidade exigem que 'todas as afirmações factuais na resposta estejam DIRETAMENTE E SEMANTICAMENTE suportadas por trechos nos documentos de evidência'. Os documentos de evidência fornecidos *contêm* diversas informações. A afirmação de que 'não encontrei informações' não é suportada por nenhum trecho dos documentos. Os documentos não contêm uma declaração de que não há informações sobre um tópico. Pelo contrário, eles contêm informações. Portanto, a afirmação do modelo não é fiel às evidências fornecidas, pois não pode ser diretamente verificada ou suportada por um trecho dos documentos. A resposta faz uma afirmação sobre a ausência de informação, que não é uma informação *presente* nos documentos para ser citada ou suportada por eles.\n"
     ]
    }
   ],
   "source": [
    "inputs = {\"question\": \"Quem foi michel jackson?\"}\n",
    "    \n",
    "final_state = graph.invoke(inputs)\n",
    "\n",
    "final_answer = final_state.get(\"answer\", \"ERRO: Chave 'answer' não encontrada no estado final.\")\n",
    "\n",
    "print(\"\\n--- RESPOSTA FINAL (PÓS-VERIFICAÇÃO) ---\\n\")\n",
    "print(final_answer)\n",
    "\n",
    "print(\"\\n--- DADOS DE VERIFICAÇÃO ---\")\n",
    "print(f\"Veredito: {final_state['verdict'].verdict}\")\n",
    "print(f\"Motivo: {final_state['verdict'].reasoning}\")"
   ]
  }
 ],
 "metadata": {
  "kernelspec": {
   "display_name": "dr-llama.env",
   "language": "python",
   "name": "python3"
  },
  "language_info": {
   "codemirror_mode": {
    "name": "ipython",
    "version": 3
   },
   "file_extension": ".py",
   "mimetype": "text/x-python",
   "name": "python",
   "nbconvert_exporter": "python",
   "pygments_lexer": "ipython3",
   "version": "3.12.9"
  }
 },
 "nbformat": 4,
 "nbformat_minor": 5
}
