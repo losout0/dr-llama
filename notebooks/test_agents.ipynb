{
 "cells": [
  {
   "cell_type": "markdown",
   "id": "2086739f",
   "metadata": {},
   "source": [
    "## **Testando os agentes de recuperação de documentos e geração de texto**"
   ]
  },
  {
   "cell_type": "markdown",
   "id": "2693d60a",
   "metadata": {},
   "source": [
    "### Importações necessárias"
   ]
  },
  {
   "cell_type": "code",
   "execution_count": 1,
   "id": "ca3d512c",
   "metadata": {},
   "outputs": [
    {
     "name": "stdout",
     "output_type": "stream",
     "text": [
      "Iniciando: importando as bibliotecas e instanciando os agentes...\n"
     ]
    }
   ],
   "source": [
    "import sys\n",
    "import os\n",
    "\n",
    "from typing import List, TypedDict, Literal\n",
    "from langchain_core.documents import Document\n",
    "from langgraph.graph import StateGraph, END\n",
    "\n",
    "sys.path.append(os.path.abspath(os.path.join(os.getcwd(), \"..\")))\n",
    "from src import *"
   ]
  },
  {
   "cell_type": "markdown",
   "id": "7d409cb4",
   "metadata": {},
   "source": [
    "### Convertendo o prompt em \"juridiquês\" (Query Expander)"
   ]
  },
  {
   "cell_type": "code",
   "execution_count": 2,
   "id": "208edbd5",
   "metadata": {},
   "outputs": [
    {
     "name": "stdout",
     "output_type": "stream",
     "text": [
      "--- CONSULTAS EXPANDIDAS: ['Me fale sobre venda condicionada', 'venda casada no código do consumidor', 'proibição de venda condicionada lei', 'o que é venda condicionada no código do consumidor', 'venda condicionada lei brasileira', 'venda casada equivalente jurídico'] ---\n",
      "['Me fale sobre venda condicionada', 'venda casada no código do consumidor', 'proibição de venda condicionada lei', 'o que é venda condicionada no código do consumidor', 'venda condicionada lei brasileira', 'venda casada equivalente jurídico']\n"
     ]
    }
   ],
   "source": [
    "prompt = \"Me fale sobre venda casada\"\n",
    "queries = expand_query(prompt)\n",
    "\n",
    "print(queries)"
   ]
  },
  {
   "cell_type": "markdown",
   "id": "6e883e13",
   "metadata": {},
   "source": [
    "### Recuperando documentos a partir de um prompt"
   ]
  },
  {
   "cell_type": "code",
   "execution_count": 10,
   "id": "ce85f1a1",
   "metadata": {},
   "outputs": [
    {
     "name": "stdout",
     "output_type": "stream",
     "text": [
      "Art. 30 encontrado!\n"
     ]
    }
   ],
   "source": [
    "docs = retriever_agent.get_relevant_documents([\"artigo 30\"])\n",
    "\n",
    "for doc in docs:\n",
    "    if \"art. 30\" in doc.page_content.lower():\n",
    "        print(\"Art. 30 encontrado!\")\n",
    "        break\n",
    "else:\n",
    "    print(\"Art. 37 não encontrado nos documentos indexados\")"
   ]
  },
  {
   "cell_type": "code",
   "execution_count": 4,
   "id": "cb30f941",
   "metadata": {},
   "outputs": [
    {
     "name": "stdout",
     "output_type": "stream",
     "text": [
      "[Document(id='9af87bf0-9bef-4a12-996e-f6b8a12328cf', metadata={'producer': 'Adobe PDF Library 17.0', 'creator': 'Adobe InDesign 19.5 (Windows)', 'creationdate': '2025-04-01T09:42:42-03:00', 'author': 'Senado Federal', 'moddate': '2025-04-01T09:54:25-03:00', 'title': 'Constituição da República Federativa do Brasil', 'trapped': '/False', 'source': 'constituicao_federal.pdf', 'total_pages': 189, 'page': 20, 'page_label': '21', 'pretty_name': 'Constituição Federal'}, page_content='máximo dos Vereadores corresponderá a vinte por cento \\ndo subsídio dos Deputados Estaduais;\\nb) em Municípios de dez mil e um a cinquenta mil \\nhabitantes, o subsídio máximo dos Vereadores corres-\\nponderá a trinta por cento do subsídio dos Deputados \\nEstaduais;\\nc) em Municípios de cinquenta mil e um a cem mil \\nhabitantes, o subsídio máximo dos Vereadores corres-\\nponderá a quarenta por cento do subsídio dos Deputados \\nEstaduais;\\nd) em Municípios de cem mil e um a trezentos mil \\nhabitantes, o subsídio máximo dos Vereadores corres-\\nponderá a cinquenta por cento do subsídio dos Depu-\\ntados Estaduais;\\ne) em Municípios de trezentos mil e um a quinhen-\\ntos mil habitantes, o subsídio máximo dos Vereadores \\ncorresponderá a sessenta por cento do subsídio dos \\nDeputados Estaduais;\\nf) em Municípios de mais de quinhentos mil habitan-\\ntes, o subsídio máximo dos Vereadores corresponderá \\na setenta e cinco por cento do subsídio dos Deputados \\nEstaduais;\\nVII – o total da despesa com a remuneração dos'), Document(id='b9b41a3f-daf4-40a3-a022-a6b28cc016d1', metadata={'producer': 'Adobe PDF Library 17.0', 'creator': 'Adobe InDesign 19.5 (Windows)', 'creationdate': '2025-04-01T09:42:42-03:00', 'author': 'Senado Federal', 'moddate': '2025-04-01T09:54:25-03:00', 'title': 'Constituição da República Federativa do Brasil', 'trapped': '/False', 'source': 'constituicao_federal.pdf', 'total_pages': 189, 'page': 13, 'page_label': '14', 'pretty_name': 'Constituição Federal'}, page_content='XXII – redução dos riscos inerentes ao trabalho, por \\nmeio de normas de saúde, higiene e segurança;\\nXXIII – adicional de remuneração para as atividades \\npenosas, insalubres ou perigosas, na forma da lei;\\nXXIV – aposentadoria;\\nXXV – assistência gratuita aos filhos e dependentes \\ndesde o nascimento até 5 (cinco) anos de idade em \\ncreches e pré-escolas;\\nXXVI – reconhecimento das convenções e acordos \\ncoletivos de trabalho;\\nXXVII – proteção em face da automação, na forma \\nda lei;\\nXXVIII – seguro contra acidentes de trabalho, a cargo \\ndo empregador, sem excluir a indenização a que este está \\nobrigado, quando incorrer em dolo ou culpa;\\nXXIX – ação, quanto aos créditos resultantes das \\nrelações de trabalho, com prazo prescricional de cinco \\nanos para os trabalhadores urbanos e rurais, até o limite \\nde dois anos após a extinção do contrato de trabalho;\\na) (Revogada);\\nb) (Revogada);\\nXXX – proibição de diferença de salários, de exercício'), Document(id='97754751-dac0-43ca-8eb3-689892224ce9', metadata={'producer': 'Adobe PDF Library 17.0', 'creator': 'Adobe InDesign 19.5 (Windows)', 'creationdate': '2025-04-01T09:42:42-03:00', 'author': 'Senado Federal', 'moddate': '2025-04-01T09:54:25-03:00', 'title': 'Constituição da República Federativa do Brasil', 'trapped': '/False', 'source': 'constituicao_federal.pdf', 'total_pages': 189, 'page': 171, 'page_label': '172', 'pretty_name': 'Constituição Federal'}, page_content='para as necessidades relacionadas com a deficiência;\\nb) Assegurar o acesso de pessoas com deficiência, parti-\\ncularmente mulheres, crianças e idosos com deficiência, \\na programas de proteção social e de redução da pobreza;\\nc) Assegurar o acesso de pessoas com deficiência e suas \\nfamílias em situação de pobreza à assistência do Estado \\nem relação a seus gastos ocasionados pela deficiência, \\ninclusive treinamento adequado, aconselhamento, ajuda \\nfinanceira e cuidados de repouso;\\nd) Assegurar o acesso de pessoas com deficiência a \\nprogramas habitacionais públicos;\\ne) Assegurar igual acesso de pessoas com deficiência a \\nprogramas e benefícios de aposentadoria.\\nArtigo 29 – Participação na vida política e pública\\nOs Estados Partes garantirão às pessoas com deficiência \\ndireitos políticos e oportunidade de exercê-los em con-\\ndições de igualdade com as demais pessoas, e deverão:\\na) Assegurar que as pessoas com deficiência possam \\nparticipar efetiva e plenamente na vida política e pública,'), Document(id='98c5437d-a430-4b0f-a3ca-4a8abe3504ec', metadata={'producer': 'Adobe PDF Library 10.0.1', 'creator': 'Adobe InDesign CS6 (Windows)', 'creationdate': '2017-10-18T12:07:27-02:00', 'moddate': '2017-10-18T12:20:15-02:00', 'trapped': '/False', 'source': 'codigo_defesa_consumidor.pdf', 'total_pages': 135, 'page': 75, 'page_label': '74', 'pretty_name': 'Código de defesa do consumidor'}, page_content='XII – dificultar ou romper a continuidade ou \\ndesenvolvimento de relações comerciais de pra-\\nzo indeterminado em razão de recusa da outra \\nparte em submeter-se a cláusulas e condições \\ncomerciais injustificáveis ou anticoncorrenciais;\\nXIII – destruir, inutilizar ou açambarcar \\nmatérias-primas, produtos intermediários ou \\nacabados, assim como destruir, inutilizar ou di-\\nficultar a operação de equipamentos destinados \\na produzi-los, distribuí-los ou transportá-los;\\nXIV – açambarcar ou impedir a exploração \\nde direitos de propriedade industrial ou inte -\\nlectual ou de tecnologia;\\nXV – vender mercadoria ou prestar serviços \\ninjustificadamente abaixo do preço de custo;'), Document(id='1bd08bd8-e36b-4ac1-979d-3d081cbd56cc', metadata={'producer': 'Adobe PDF Library 17.0', 'creator': 'Adobe InDesign 19.5 (Windows)', 'creationdate': '2025-04-01T09:42:42-03:00', 'author': 'Senado Federal', 'moddate': '2025-04-01T09:54:25-03:00', 'title': 'Constituição da República Federativa do Brasil', 'trapped': '/False', 'source': 'constituicao_federal.pdf', 'total_pages': 189, 'page': 73, 'page_label': '74', 'pretty_name': 'Constituição Federal'}, page_content='§ 2o O disposto neste artigo aplica-se às instituições \\nde pesquisa científica e tecnológica.\\nArt. 208. O dever do Estado com a educação será efe-\\ntivado mediante a garantia de:\\nI – educação básica obrigatória e gratuita dos 4 \\n(quatro) aos 17 (dezessete) anos de idade, assegurada \\ninclusive sua oferta gratuita para todos os que a ela não \\ntiveram acesso na idade própria;\\nII – progressiva universalização do ensino médio \\ngratuito;\\nIII – atendimento educacional especializado aos \\nportadores de deficiência, preferencialmente na rede \\nregular de ensino;\\nIV – educação infantil, em creche e pré-escola, às \\ncrianças até 5 (cinco) anos de idade;\\nV – acesso aos níveis mais elevados do ensino, da \\npesquisa e da criação artística, segundo a capacidade \\nde cada um;\\nVI – oferta de ensino noturno regular, adequado às \\ncondições do educando;\\nVII – atendimento ao educando, em todas as etapas da \\neducação básica, por meio de programas suplementares'), Document(id='b30a22e0-7851-41d5-bd02-e6eff385ba01', metadata={'producer': 'Adobe PDF Library 10.0.1', 'creator': 'Adobe InDesign CS6 (Windows)', 'creationdate': '2017-10-18T12:07:27-02:00', 'moddate': '2017-10-18T12:20:15-02:00', 'trapped': '/False', 'source': 'codigo_defesa_consumidor.pdf', 'total_pages': 135, 'page': 42, 'page_label': '41', 'pretty_name': 'Código de defesa do consumidor'}, page_content='a que se destina ou que lhe diminua o valor;\\nX – deixar de reexecutar os serviços, quando \\ncabível, sem custo adicional;\\nXI – deixar de estipular prazo para o cum -\\nprimento de sua obrigação ou deixar a fixação'), Document(id='14fa7bf1-b453-4b2e-880f-704d7223412e', metadata={'producer': 'Adobe PDF Library 10.0.1', 'creator': 'Adobe InDesign CS6 (Windows)', 'creationdate': '2017-10-18T12:07:27-02:00', 'moddate': '2017-10-18T12:20:15-02:00', 'trapped': '/False', 'source': 'codigo_defesa_consumidor.pdf', 'total_pages': 135, 'page': 32, 'page_label': '31', 'pretty_name': 'Código de defesa do consumidor'}, page_content='midor para identificação e correção imediata \\nde erros ocorridos nas etapas anteriores à \\nfinalização da contratação;\\nIII – confirmar imediatamente o recebimen-\\nto da aceitação da oferta;\\nIV – disponibilizar o contrato ao consumi-\\ndor em meio que permita sua conservação e \\nreprodução, imediatamente após a contratação;\\nV – manter serviço adequado e eficaz de \\natendimento em meio eletrônico, que possibi-\\nlite ao consumidor a resolução de demandas \\nreferentes a informação, dúvida, reclamação, \\nsuspensão ou cancelamento do contrato;\\nVI – confirmar imediatamente o recebi -\\nmento das demandas do consumidor referidas \\nno inciso, pelo mesmo meio empregado pelo \\nconsumidor; e'), Document(id='42866125-c999-4488-9657-154c062ad413', metadata={'producer': 'Adobe PDF Library 17.0', 'creator': 'Adobe InDesign 19.5 (Windows)', 'creationdate': '2025-04-01T09:42:42-03:00', 'author': 'Senado Federal', 'moddate': '2025-04-01T09:54:25-03:00', 'title': 'Constituição da República Federativa do Brasil', 'trapped': '/False', 'source': 'constituicao_federal.pdf', 'total_pages': 189, 'page': 17, 'page_label': '18', 'pretty_name': 'Constituição Federal'}, page_content='nômico e social;\\nX – manter o serviço postal e o correio aéreo nacional;\\nXI – explorar, diretamente ou mediante autorização, \\nconcessão ou permissão, os serviços de telecomunica-\\nções, nos termos da lei, que disporá sobre a organização \\ndos serviços, a criação de um órgão regulador e outros \\naspectos institucionais;\\nXII – explorar, diretamente ou mediante autorização, \\nconcessão ou permissão:\\na) os serviços de radiodifusão sonora e de sons e \\nimagens;\\nb) os serviços e instalações de energia elétrica e o \\naproveitamento energético dos cursos de água, em arti-\\nculação com os Estados onde se situam os potenciais \\nhidroenergéticos;\\nc) a navegação aérea, aeroespacial e a infraestrutura \\naeroportuária;\\nd) os serviços de transporte ferroviário e aquaviário \\nentre portos brasileiros e fronteiras nacionais, ou que \\ntransponham os limites de Estado ou Território;\\ne) os serviços de transporte rodoviário interestadual \\ne internacional de passageiros;\\nf) os portos marítimos, fluviais e lacustres;'), Document(id='5a3c5a65-78a1-473b-a3b0-ac9f884fb1ae', metadata={'producer': 'Adobe PDF Library 17.0', 'creator': 'Adobe InDesign 19.5 (Windows)', 'creationdate': '2025-04-01T09:42:42-03:00', 'author': 'Senado Federal', 'moddate': '2025-04-01T09:54:25-03:00', 'title': 'Constituição da República Federativa do Brasil', 'trapped': '/False', 'source': 'constituicao_federal.pdf', 'total_pages': 189, 'page': 19, 'page_label': '20', 'pretty_name': 'Constituição Federal'}, page_content='(quinze mil) habitantes;\\nb) 11 (onze) Vereadores, nos Municípios de mais de \\n15.000 (quinze mil) habitantes e de até 30.000 (trinta \\nmil) habitantes;\\nc) 13 (treze) Vereadores, nos Municípios com mais de \\n30.000 (trinta mil) habitantes e de até 50.000 (cinquenta \\nmil) habitantes;\\nd) 15 (quinze) Vereadores, nos Municípios de mais \\nde 50.000 (cinquenta mil) habitantes e de até 80.000 \\n(oitenta mil) habitantes;\\ne) 17 (dezessete) Vereadores, nos Municípios de mais \\nde 80.000 (oitenta mil) habitantes e de até 120.000 (cento \\ne vinte mil) habitantes;\\nf) 19 (dezenove) Vereadores, nos Municípios de mais \\nde 120.000 (cento e vinte mil) habitantes e de até 160.000 \\n(cento e sessenta mil) habitantes;\\ng) 21 (vinte e um) Vereadores, nos Municípios de \\nmais de 160.000 (cento e sessenta mil) habitantes e de \\naté 300.000 (trezentos mil) habitantes;\\nh) 23 (vinte e três) Vereadores, nos Municípios de \\nmais de 300.000 (trezentos mil) habitantes e de até \\n450.000 (quatrocentos e cinquenta mil) habitantes;'), Document(id='21d0e805-133e-41ea-82a1-b8296585db4e', metadata={'producer': 'Adobe PDF Library 17.0', 'creator': 'Adobe InDesign 19.5 (Windows)', 'creationdate': '2025-04-01T09:42:42-03:00', 'author': 'Senado Federal', 'moddate': '2025-04-01T09:54:25-03:00', 'title': 'Constituição da República Federativa do Brasil', 'trapped': '/False', 'source': 'constituicao_federal.pdf', 'total_pages': 189, 'page': 38, 'page_label': '39', 'pretty_name': 'Constituição Federal'}, page_content='em dívida ativa do ente federativo devedor, inclusive \\nem transação resolutiva de litígio, e, subsidiariamente, \\ndébitos com a administração autárquica e fundacional \\ndo mesmo ente;\\nII – compra de imóveis públicos de propriedade do \\nmesmo ente disponibilizados para venda;\\n* NE: ver ADIs nos\\xa04.357 e 4.425.'), Document(id='5065cc76-5e62-4cb7-8b15-506c4aba9261', metadata={'producer': 'Adobe PDF Library 17.0', 'creator': 'Adobe InDesign 19.5 (Windows)', 'creationdate': '2025-04-01T09:42:42-03:00', 'author': 'Senado Federal', 'moddate': '2025-04-01T09:54:25-03:00', 'title': 'Constituição da República Federativa do Brasil', 'trapped': '/False', 'source': 'constituicao_federal.pdf', 'total_pages': 189, 'page': 157, 'page_label': '158', 'pretty_name': 'Constituição Federal'}, page_content='“ Art. 212-A.  .................................................................\\n .........................................................................................\\nII –  .................................................................................\\n .........................................................................................\\nc) dos recursos a que se referem os incisos I e III do \\ncaput do art.\\xa0155, o inciso II do caput do art.\\xa0157, os \\nincisos II, III e IV do caput  do art.\\xa0158 e as alíneas \\n“a” e “b” do inciso I e o inciso II do caput do art.\\xa0159 \\ndesta Constituição;\\n .......................................................................................”\\n“ Art. 225.  ......................................................................\\n§ 1o  ................................................................................\\n .........................................................................................\\nVIII – manter regime fiscal favorecido para os'), Document(id='fb0600c5-db5a-4c77-8f00-69766d8d78b1', metadata={'producer': 'Adobe PDF Library 17.0', 'creator': 'Adobe InDesign 19.5 (Windows)', 'creationdate': '2025-04-01T09:42:42-03:00', 'author': 'Senado Federal', 'moddate': '2025-04-01T09:54:25-03:00', 'title': 'Constituição da República Federativa do Brasil', 'trapped': '/False', 'source': 'constituicao_federal.pdf', 'total_pages': 189, 'page': 107, 'page_label': '108', 'pretty_name': 'Constituição Federal'}, page_content='“b” , todos da Constituição Federal; e\\nII – a respectiva receita média, apurada nos termos do \\nart.\\xa0131, §\\xa02o, I, II e III, deste Ato das Disposições Cons-\\ntitucionais Transitórias, limitada a 3 (três) vezes a média \\nnacional por habitante da respectiva esfera federativa.\\n§ 1o Os recursos serão distribuídos, sequencial e \\nsucessivamente, aos entes com as menores razões de \\nque trata o caput, de maneira que, ao final da distribui-\\nção, para todos os entes que receberem recursos, seja \\nobservada a mesma a razão entre:\\nI – a soma do valor apurado nos termos do inciso I \\ndo caput com o valor recebido nos termos deste artigo; e\\nII – a receita média apurada na forma do inciso II \\ndo caput.\\n§ 2o Aplica-se aos recursos distribuídos na forma \\ndeste artigo o disposto no art.\\xa0131, §\\xa05 o deste Ato das \\nDisposições Constitucionais Transitórias.\\n§ 3o Lei complementar estabelecerá os critérios para \\na redução gradativa, entre 2078 e 2097, do percentual \\nde que trata o caput, até a sua extinção.'), Document(id='1f16860b-26cf-49e0-a087-026e584effbb', metadata={'producer': 'Adobe PDF Library 10.0.1', 'creator': 'Adobe InDesign CS6 (Windows)', 'creationdate': '2017-10-18T12:07:27-02:00', 'moddate': '2017-10-18T12:20:15-02:00', 'trapped': '/False', 'source': 'codigo_defesa_consumidor.pdf', 'total_pages': 135, 'page': 76, 'page_label': '75', 'pretty_name': 'Código de defesa do consumidor'}, page_content='ridade do infrator, quando a infração estiver \\nrelacionada ao uso desse direito;\\nb) não seja concedido ao infrator parce -\\nlamento de tributos federais por ele devidos \\nou para que sejam cancelados, no todo ou em \\nparte, incentivos fiscais ou subsídios públicos;\\nV – a cisão de sociedade, transferência de \\ncontrole societário, venda de ativos ou cessação \\nparcial de atividade;\\nVI – a proibição de exercer o comércio em \\nnome próprio ou como representante de pessoa \\njurídica, pelo prazo de até 5 (cinco) anos; e'), Document(id='9b4b9755-4c4e-418a-9f70-5ab6f07fb575', metadata={'producer': 'Adobe PDF Library 17.0', 'creator': 'Adobe InDesign 19.5 (Windows)', 'creationdate': '2025-04-01T09:42:42-03:00', 'author': 'Senado Federal', 'moddate': '2025-04-01T09:54:25-03:00', 'title': 'Constituição da República Federativa do Brasil', 'trapped': '/False', 'source': 'constituicao_federal.pdf', 'total_pages': 189, 'page': 52, 'page_label': '53', 'pretty_name': 'Constituição Federal'}, page_content='ou pagamento de preços ou tarifas pelo usuário, nem \\nexoneram o promitente comprador da obrigação de \\npagar imposto relativamente ao bem imóvel.\\n§ 4o As vedações expressas no inciso VI, alíneas “b” \\ne “c” , compreendem somente o patrimônio, a renda e os \\nserviços, relacionados com as finalidades essenciais das \\nentidades nelas mencionadas.\\n§ 5o A lei determinará medidas para que os consu-\\nmidores sejam esclarecidos acerca dos impostos que \\nincidam sobre mercadorias e serviços.\\n§ 6o Qualquer subsídio ou isenção, redução de base \\nde cálculo, concessão de crédito presumido, anistia ou \\nremissão, relativos a impostos, taxas ou contribuições, \\nsó poderá ser concedido mediante lei específica, fede-\\nral, estadual ou municipal, que regule exclusivamente \\nas matérias acima enumeradas ou o correspondente \\ntributo ou contribuição, sem prejuízo do disposto no \\nart.\\xa0155, §\\xa02o, XII, “g” .\\n§ 7o A lei poderá atribuir a sujeito passivo de obri-\\ngação tributária a condição de responsável pelo paga-'), Document(id='dc2fff96-3072-4a75-a933-aa84381c1d04', metadata={'producer': 'Adobe PDF Library 17.0', 'creator': 'Adobe InDesign 19.5 (Windows)', 'creationdate': '2025-04-01T09:42:42-03:00', 'author': 'Senado Federal', 'moddate': '2025-04-01T09:54:25-03:00', 'title': 'Constituição da República Federativa do Brasil', 'trapped': '/False', 'source': 'constituicao_federal.pdf', 'total_pages': 189, 'page': 74, 'page_label': '75', 'pretty_name': 'Constituição Federal'}, page_content='alínea “c” do inciso V do caput deste artigo;\\nd) a transparência, o monitoramento, a fiscalização e \\no controle interno, externo e social dos fundos referidos \\nno inciso I do caput deste artigo, assegurada a criação, a \\nautonomia, a manutenção e a consolidação de conselhos'), Document(id='354aaceb-eb19-4acc-8089-12c10353e333', metadata={'producer': 'Adobe PDF Library 10.0.1', 'creator': 'Adobe InDesign CS6 (Windows)', 'creationdate': '2017-10-18T12:07:27-02:00', 'moddate': '2017-10-18T12:20:15-02:00', 'trapped': '/False', 'source': 'codigo_defesa_consumidor.pdf', 'total_pages': 135, 'page': 103, 'page_label': '102', 'pretty_name': 'Código de defesa do consumidor'}, page_content='dias após o parto;\\nb) inscrição assegurada ao recém-nascido, \\nfilho natural ou adotivo do consumidor, como \\ndependente, isento do cumprimento dos perío-\\ndos de carência, desde que a inscrição ocorra \\nno prazo máximo de trinta dias do nascimento \\nou da adoção;\\nIV – quando incluir atendimento odonto -\\nlógico:\\na) cobertura de consultas e exames au -\\nxiliares ou complementares, solicitados pelo \\nodontólogo assistente;\\nb) cobertura de procedimentos preventivos, \\nde dentística e endodontia;\\nc) cobertura de cirurgias orais menores, \\nassim consideradas as realizadas em ambiente \\nambulatorial e sem anestesia geral;\\nV – quando fixar períodos de carência:\\na) prazo máximo de trezentos dias para \\npartos a termo;\\nb) prazo máximo de cento e oitenta dias \\npara os demais casos;\\nc) prazo máximo de vinte e quatro horas \\npara a cobertura dos casos de urgência e \\nemergência;\\nVI – reembolso, em todos os tipos de pro -\\ndutos de que tratam o inciso I e o §\\xa01o do art.\\xa01o'), Document(id='a77125d1-2bcd-4bdb-9c52-227d00546b99', metadata={'producer': 'Adobe PDF Library 17.0', 'creator': 'Adobe InDesign 19.5 (Windows)', 'creationdate': '2025-04-01T09:42:42-03:00', 'author': 'Senado Federal', 'moddate': '2025-04-01T09:54:25-03:00', 'title': 'Constituição da República Federativa do Brasil', 'trapped': '/False', 'source': 'constituicao_federal.pdf', 'total_pages': 189, 'page': 44, 'page_label': '45', 'pretty_name': 'Constituição Federal'}, page_content='I, “o”;\\nVI – as ações de indenização por dano moral ou \\npatrimonial, decorrentes da relação de trabalho;\\nVII – as ações relativas às penalidades administrativas \\nimpostas aos empregadores pelos órgãos de fiscalização \\ndas relações de trabalho;\\nVIII – a execução, de ofício, das contribuições sociais \\nprevistas no art.\\xa0195, I, “a” , e II, e seus acréscimos legais, \\ndecorrentes das sentenças que proferir;\\nIX – outras controvérsias decorrentes da relação de \\ntrabalho, na forma da lei.\\n§ 1o Frustrada a negociação coletiva, as partes pode-\\nrão eleger árbitros.\\n§ 2o Recusando-se qualquer das partes à negociação \\ncoletiva ou à arbitragem, é facultado às mesmas, de \\ncomum acordo, ajuizar dissídio coletivo de natureza \\neconômica, podendo a Justiça do Trabalho decidir o \\nconflito, respeitadas as disposições mínimas legais de \\nproteção ao trabalho, bem como as convencionadas \\nanteriormente.\\n§ 3o Em caso de greve em atividade essencial, com'), Document(id='ff9d0a55-4bc9-4ca2-ac4e-c1166818bf50', metadata={'producer': 'Adobe PDF Library 17.0', 'creator': 'Adobe InDesign 19.5 (Windows)', 'creationdate': '2025-04-01T09:42:42-03:00', 'author': 'Senado Federal', 'moddate': '2025-04-01T09:54:25-03:00', 'title': 'Constituição da República Federativa do Brasil', 'trapped': '/False', 'source': 'constituicao_federal.pdf', 'total_pages': 189, 'page': 12, 'page_label': '13', 'pretty_name': 'Constituição Federal'}, page_content='LIII – ninguém será processado nem sentenciado \\nsenão pela autoridade competente;\\nLIV – ninguém será privado da liberdade ou de seus \\nbens sem o devido processo legal;\\nLV – aos litigantes, em processo judicial ou admi -\\nnistrativo, e aos acusados em geral são assegurados o \\ncontraditório e ampla defesa, com os meios e recursos \\na ela inerentes;\\nLVI – são inadmissíveis, no processo, as provas obtidas \\npor meios ilícitos;\\nLVII – ninguém será considerado culpado até o trân-\\nsito em julgado de sentença penal condenatória;\\nLVIII – o civilmente identificado não será submetido \\na identificação criminal, salvo nas hipóteses previstas \\nem lei;\\nLIX – será admitida ação privada nos crimes de ação \\npública, se esta não for intentada no prazo legal;\\nLX – a lei só poderá restringir a publicidade dos atos \\nprocessuais quando a defesa da intimidade ou o interesse \\nsocial o exigirem;\\nLXI – ninguém será preso senão em flagrante delito \\nou por ordem escrita e fundamentada de autoridade'), Document(id='d9da158e-29eb-423a-a327-0c3137b37c52', metadata={'producer': 'Adobe PDF Library 17.0', 'creator': 'Adobe InDesign 19.5 (Windows)', 'creationdate': '2025-04-01T09:42:42-03:00', 'author': 'Senado Federal', 'moddate': '2025-04-01T09:54:25-03:00', 'title': 'Constituição da República Federativa do Brasil', 'trapped': '/False', 'source': 'constituicao_federal.pdf', 'total_pages': 189, 'page': 11, 'page_label': '12', 'pretty_name': 'Constituição Federal'}, page_content='os definidos como crimes hediondos, por eles respon-\\ndendo os mandantes, os executores e os que, podendo \\nevitá-los, se omitirem;\\nXLIV – constitui crime inafiançável e imprescritível \\na ação de grupos armados, civis ou militares, contra a \\nordem constitucional e o Estado Democrático;\\nXLV – nenhuma pena passará da pessoa do con -\\ndenado, podendo a obrigação de reparar o dano e a \\ndecretação do perdimento de bens ser, nos termos da \\nlei, estendidas aos sucessores e contra eles executadas, \\naté o limite do valor do patrimônio transferido;\\nXLVI – a lei regulará a individualização da pena e \\nadotará, entre outras, as seguintes:\\na) privação ou restrição da liberdade;\\nb) perda de bens;\\nc) multa;\\nd) prestação social alternativa;\\ne) suspensão ou interdição de direitos;\\nXLVII – não haverá penas:'), Document(id='da31b64a-60e2-4a2b-9fb9-8fbafddb36ea', metadata={'producer': 'Adobe PDF Library 17.0', 'creator': 'Adobe InDesign 19.5 (Windows)', 'creationdate': '2025-04-01T09:42:42-03:00', 'author': 'Senado Federal', 'moddate': '2025-04-01T09:54:25-03:00', 'title': 'Constituição da República Federativa do Brasil', 'trapped': '/False', 'source': 'constituicao_federal.pdf', 'total_pages': 189, 'page': 12, 'page_label': '13', 'pretty_name': 'Constituição Federal'}, page_content='social o exigirem;\\nLXI – ninguém será preso senão em flagrante delito \\nou por ordem escrita e fundamentada de autoridade \\njudiciária competente, salvo nos casos de transgressão \\nmilitar ou crime propriamente militar, definidos em lei;\\nLXII – a prisão de qualquer pessoa e o local onde se \\nencontre serão comunicados imediatamente ao juiz com-\\npetente e à família do preso ou à pessoa por ele indicada;\\nLXIII – o preso será informado de seus direitos, entre \\nos quais o de permanecer calado, sendo-lhe assegurada \\na assistência da família e de advogado;\\nLXIV – o preso tem direito à identificação dos respon-\\nsáveis por sua prisão ou por seu interrogatório policial;\\nLXV – a prisão ilegal será imediatamente relaxada \\npela autoridade judiciária;\\nLXVI – ninguém será levado à prisão ou nela man-\\ntido, quando a lei admitir a liberdade provisória, com \\nou sem fiança;\\nLXVII – não haverá prisão civil por dívida, salvo a do \\nresponsável pelo inadimplemento voluntário e inescu-'), Document(id='55845aa5-adf2-4182-a926-270fddb85291', metadata={'producer': 'Adobe PDF Library 17.0', 'creator': 'Adobe InDesign 19.5 (Windows)', 'creationdate': '2025-04-01T09:42:42-03:00', 'author': 'Senado Federal', 'moddate': '2025-04-01T09:54:25-03:00', 'title': 'Constituição da República Federativa do Brasil', 'trapped': '/False', 'source': 'constituicao_federal.pdf', 'total_pages': 189, 'page': 5, 'page_label': '6', 'pretty_name': 'Constituição Federal'}, page_content='Seção III – Da Previdência Social ..................................................................................................................................72\\nSeção IV – Da Assistência Social ...................................................................................................................................73\\nCapítulo III – Da Educação, da Cultura e do Desporto .................................................................................................73\\nSeção I – Da Educação ....................................................................................................................................................73\\nSeção II – Da Cultura ......................................................................................................................................................76'), Document(id='d0efc916-4242-44da-a15e-62f7313c0ea9', metadata={'producer': 'Adobe PDF Library 17.0', 'creator': 'Adobe InDesign 19.5 (Windows)', 'creationdate': '2025-04-01T09:42:42-03:00', 'author': 'Senado Federal', 'moddate': '2025-04-01T09:54:25-03:00', 'title': 'Constituição da República Federativa do Brasil', 'trapped': '/False', 'source': 'constituicao_federal.pdf', 'total_pages': 189, 'page': 5, 'page_label': '6', 'pretty_name': 'Constituição Federal'}, page_content='Título VIII – Da Ordem Social .......................................................................................................................................69\\nCapítulo I – Disposição Geral ............................................................................................................................................69\\nCapítulo II – Da Seguridade Social ...................................................................................................................................69\\nSeção I – Disposições Gerais ..........................................................................................................................................69\\nSeção II – Da Saúde .........................................................................................................................................................70')]\n"
     ]
    }
   ],
   "source": [
    "print(retriever_agent.get_relevant_documents(\"Reembolso\"))"
   ]
  },
  {
   "cell_type": "markdown",
   "id": "9c466946",
   "metadata": {},
   "source": [
    "### Gerando uma resposta a partir dos documentos"
   ]
  },
  {
   "cell_type": "code",
   "execution_count": 4,
   "id": "82848b20",
   "metadata": {},
   "outputs": [
    {
     "name": "stdout",
     "output_type": "stream",
     "text": [
      "--- CONSULTAS EXPANDIDAS: ['proibição de publicidade falsa no código de defesa do consumidor', 'o que é publicidade falsa no código de defesa do consumidor', 'lei sobre publicidade enganosa no brasil', 'Me fale sobre publicidade enganosa'] ---\n",
      "A publicidade falsa é definida como qualquer modalidade de informação ou comunicação de caráter publicitário, inteira ou parcialmente falsa, ou que omita dados essenciais sobre produtos ou serviços. Isso é estabelecido no Código de Defesa do Consumidor, em seu Art. 37, § 1o [Fonte: Código de Defesa do Consumidor, Art. 37, § 1o].\n",
      "\n",
      "Além disso, a publicidade que deixa de informar sobre dado essencial do produto ou serviço a ser colocado à disposição dos consumidores também é considerada enganosa por omissão, conforme estabelece o Art. 37, § 1o do mesmo Código [Fonte: Código de Defesa do Consumidor, Art. 37, § 1o].\n",
      "\n",
      "É importante notar que o ônus da prova da veracidade (não enganosidade) e da correção (não abusividade) da informação ou comunicação publicitária cabe a quem as patrocina, conforme estabelece o Art. 37, § 3o do Código de Defesa do Consumidor [Fonte: Código de Defesa do Consumidor, Art. 37, § 3o].\n"
     ]
    }
   ],
   "source": [
    "prompt = \"Me fale sobre o que é publicidade falsa\"\n",
    "queries = expand_query(prompt)\n",
    "retrieved_docs = retriever_agent.get_relevant_documents(queries)\n",
    "\n",
    "response = generate_answer(question=prompt, documents=retrieved_docs)\n",
    "\n",
    "print(response)"
   ]
  },
  {
   "cell_type": "markdown",
   "id": "ff1979fc",
   "metadata": {},
   "source": [
    "### Criando o grafo da aplicação"
   ]
  },
  {
   "cell_type": "code",
   "execution_count": 2,
   "id": "75dc9578",
   "metadata": {},
   "outputs": [],
   "source": [
    "from IPython.display import Image, display\n",
    "\n",
    "class GraphState(TypedDict):\n",
    "    question: str\n",
    "    intent: str\n",
    "    needs_clarification: bool\n",
    "    expanded_queries: List[str] \n",
    "    confidence: str\n",
    "    documents: List[Document]\n",
    "    answer: str\n",
    "    verdict: FaithfulnessCheck\n",
    "\n",
    "# --- NÓS DO GRAFO ---\n",
    "def supervisor_node(state: GraphState):\n",
    "    \"\"\"Nó supervisor que classifica e decide próximos passos\"\"\"\n",
    "    print(\" --- EXECUTANDO NÓ: SUPERVISOR ---\")\n",
    "    question = state['question']\n",
    "    \n",
    "    supervision_result = supervise_question(question)\n",
    "    \n",
    "    return {\n",
    "        \"intent\": supervision_result[\"intent\"],\n",
    "        \"needs_clarification\": supervision_result[\"needs_clarification\"],\n",
    "        \"expanded_queries\": supervision_result[\"expanded_queries\"],\n",
    "        \"confidence\": supervision_result[\"confidence\"]\n",
    "    }\n",
    "\n",
    "def query_expander_node(state: GraphState):\n",
    "    \"Nó que executa o agente Query Expander\"\n",
    "    print(\" --- EXECUTANDO NÓ: QUERY EXPANDER ---\")\n",
    "    question = state['question']\n",
    "    question = expand_query(question)\n",
    "    return {\"question\": question}\n",
    "\n",
    "def retrieve_node(state: GraphState):\n",
    "    \"\"\"Nó que executa o agente Retriever.\"\"\"\n",
    "    print(\"--- EXECUTANDO NÓ: RETRIEVER ---\")\n",
    "    question = state[\"question\"]\n",
    "    documents = retriever_agent.get_relevant_documents(question)\n",
    "    return {\"documents\": documents}\n",
    "\n",
    "def answer_node(state: GraphState):\n",
    "    \"\"\"Nó que executa o agente Answerer.\"\"\"\n",
    "    print(\"--- EXECUTANDO NÓ: ANSWERER ---\")\n",
    "    question = state[\"question\"]\n",
    "    documents = state[\"documents\"]\n",
    "    answer = generate_answer(question, documents)\n",
    "    return {\"answer\": answer}\n",
    "\n",
    "def self_check_node(state: GraphState):\n",
    "    \"\"\"\n",
    "    Nó que executa o agente Self-Check.\n",
    "    Compara a resposta gerada com os documentos de evidência.\n",
    "    \"\"\"\n",
    "    print(\"--- EXECUTANDO NÓ: SELF-CHECK ---\")\n",
    "    answer = state[\"answer\"]\n",
    "    documents = state[\"documents\"]\n",
    "    \n",
    "    verdict_obj = check_faithfulness(answer, documents)\n",
    "    print(f\"--- VEREDITO DO SELF-CHECK: {verdict_obj.verdict} ---\")\n",
    "    return {\"verdict\": verdict_obj}\n",
    "\n",
    "def clarification_node(state: GraphState):\n",
    "    \"\"\"Nó que pede esclarecimentos quando a pergunta é incompleta\"\"\"\n",
    "    print(\" --- EXECUTANDO NÓ: CLARIFICATION ---\")\n",
    "    question = state[\"question\"]\n",
    "    intent = state[\"intent\"]\n",
    "    \n",
    "    clarification_response = f\"\"\"\n",
    "🤔 **Preciso entender melhor sua situação para te ajudar adequadamente.**\n",
    "\n",
    "Você perguntou sobre: {question}\n",
    "\n",
    "Para dar uma resposta jurídica precisa, preciso de mais detalhes:\n",
    "\n",
    "📋 **Informações que me ajudariam:**\n",
    "- Contexto específico da situação\n",
    "- Local onde ocorreu (se aplicável)\n",
    "- Documentos ou evidências disponíveis\n",
    "- Qual resultado você espera alcançar\n",
    "\n",
    "💡 **Exemplo:** Se é sobre preços diferentes, me diga onde viu cada preço (placa, etiqueta, sistema do caixa) e qual a diferença entre eles.\n",
    "\n",
    "❓ **Pode reformular sua pergunta com mais detalhes?**\n",
    "\"\"\"\n",
    "    \n",
    "    return {\"answer\": clarification_response}\n",
    "\n",
    "def safety_node(state: GraphState):\n",
    "    \"\"\"Nó que aplica disclaimer de segurança\"\"\"\n",
    "    print(\" --- EXECUTANDO NÓ: SAFETY CHECK ---\")\n",
    "    answer = state[\"answer\"]\n",
    "    final_answer_with_disclaimer = apply_disclaimer(answer)\n",
    "    return {\"answer\": final_answer_with_disclaimer}\n",
    "\n",
    "# --- NÓ DE ROTEAMENTO CONDICIONAL ---\n",
    "\n",
    "def route_after_supervisor(state: GraphState) -> Literal[\"clarification\", \"retrieve\"]:\n",
    "    \"\"\"Decide se pede esclarecimento ou segue para recuperação\"\"\"\n",
    "    needs_clarification = state.get(\"needs_clarification\", False)\n",
    "    \n",
    "    if needs_clarification:\n",
    "        return \"clarification\"\n",
    "    else:\n",
    "        return \"retrieve\"\n",
    "\n",
    "def route_after_check(state: GraphState) -> Literal[\"end_safe\", \"retry_or_fail\"]:\n",
    "    \"\"\"\n",
    "    Decide para onde ir após a checagem de fidelidade.\n",
    "    \"\"\"\n",
    "    verdict = state[\"verdict\"].verdict\n",
    "    if verdict == \"fiel\":\n",
    "        return \"end_safe\"\n",
    "    else:\n",
    "        return \"retry_or_fail\"\n",
    "\n",
    "def fail_node(state: GraphState):\n",
    "    \"\"\"\n",
    "    Nó de falha. Se a checagem falhar, retornamos uma resposta segura em vez\n",
    "    da resposta alucinada/incorreta.\n",
    "    \"\"\"\n",
    "    print(\"--- EXECUTANDO NÓ: FALHA (RESPOSTA NÃO FIEL) ---\")\n",
    "    verdict_reason = state[\"verdict\"].reasoning\n",
    "    safe_answer = (\n",
    "        \"Não consegui gerar uma resposta confiável com base nos documentos disponíveis. \"\n",
    "        f\"(Motivo da falha interna: {verdict_reason})\"\n",
    "    )\n",
    "    return {\"answer\": safe_answer}\n",
    "\n",
    "# --- CONSTRUÇÃO DO GRAFO ---\n",
    "\n",
    "def build_graph():\n",
    "    \"\"\"\n",
    "    Constrói o grafo LangGraph conectando os nós com lógica condicional.\n",
    "    \"\"\"\n",
    "    workflow = StateGraph(GraphState)\n",
    "    \n",
    "    workflow.add_node(\"supervisor\", supervisor_node)\n",
    "    workflow.add_node(\"retriever\", retrieve_node)\n",
    "    workflow.add_node(\"answerer\", answer_node)\n",
    "    workflow.add_node(\"self_check\", self_check_node)\n",
    "    workflow.add_node(\"clarification\", clarification_node)\n",
    "    workflow.add_node(\"safety_node\", safety_node)\n",
    "    \n",
    "    workflow.set_entry_point(\"supervisor\")\n",
    "    \n",
    "    workflow.add_conditional_edges(\n",
    "        \"supervisor\",\n",
    "        route_after_supervisor,\n",
    "        {\n",
    "            \"clarification\": \"clarification\",\n",
    "            \"retrieve\": \"retriever\"\n",
    "        }\n",
    "    )\n",
    "    \n",
    "    workflow.add_edge(\"retriever\", \"answerer\")\n",
    "    workflow.add_edge(\"answerer\", \"self_check\")\n",
    "    \n",
    "    workflow.add_conditional_edges(\n",
    "        \"self_check\",\n",
    "        route_after_check,\n",
    "        {\n",
    "            \"end_safe\": \"safety_node\",\n",
    "            \"clarification\": \"clarification\"\n",
    "        }\n",
    "    )\n",
    "    \n",
    "    workflow.add_edge(\"clarification\", \"safety_node\")\n",
    "    workflow.add_edge(\"safety_node\", END)\n",
    "\n",
    "    app = workflow.compile()\n",
    "    return app"
   ]
  },
  {
   "cell_type": "code",
   "execution_count": 3,
   "id": "74bc7ee8",
   "metadata": {},
   "outputs": [
    {
     "data": {
      "image/png": "[encoded data removed]",
      "text/plain": [
       "<IPython.core.display.Image object>"
      ]
     },
     "metadata": {},
     "output_type": "display_data"
    }
   ],
   "source": [
    "graph = build_graph()\n",
    "display(Image(graph.get_graph().draw_mermaid_png()))"
   ]
  },
  {
   "cell_type": "markdown",
   "id": "bf1518be",
   "metadata": {},
   "source": [
    "### Testando com um exemplo bom (Com depuração)"
   ]
  },
  {
   "cell_type": "code",
   "execution_count": 6,
   "id": "516b1493",
   "metadata": {},
   "outputs": [
    {
     "name": "stdout",
     "output_type": "stream",
     "text": [
      "\n",
      "--- INICIANDO EXECUÇÃO DO GRAFO (COM SELF-CHECK) ---\n",
      " --- EXECUTANDO NÓ: SUPERVISOR ---\n",
      "\n",
      "Nó 'supervisor' finalizado.\n",
      " --- EXECUTANDO NÓ: CLARIFICATION ---\n",
      "\n",
      "Nó 'clarification' finalizado.\n",
      " --- EXECUTANDO NÓ: SAFETY CHECK ---\n",
      "\n",
      "Nó 'safety_node' finalizado.\n",
      "\n",
      "--- EXECUÇÃO DO GRAFO CONCLUÍDA ---\n",
      "\n",
      "--- RESPOSTA FINAL (PÓS-VERIFICAÇÃO) ---\n",
      "\n",
      "\n",
      "🤔 **Preciso entender melhor sua situação para te ajudar adequadamente.**\n",
      "\n",
      "Você perguntou sobre: Vi uma placa com preço R$10 mas no caixa cobraram R$15. Tenho direito ao preço menor?\n",
      "\n",
      "Para dar uma resposta jurídica precisa, preciso de mais detalhes:\n",
      "\n",
      "📋 **Informações que me ajudariam:**\n",
      "- Contexto específico da situação\n",
      "- Local onde ocorreu (se aplicável)\n",
      "- Documentos ou evidências disponíveis\n",
      "- Qual resultado você espera alcançar\n",
      "\n",
      "💡 **Exemplo:** Se é sobre preços diferentes, me diga onde viu cada preço (placa, etiqueta, sistema do caixa) e qual a diferença entre eles.\n",
      "\n",
      "❓ **Pode reformular sua pergunta com mais detalhes?**\n",
      "\n",
      "\n",
      "---\n",
      "**Aviso Legal:** Eu sou um assistente de inteligência artificial e as minhas respostas são geradas com base em documentos públicos, tendo um caráter puramente informativo. **Este conteúdo não constitui e não substitui uma assessoria jurídica formal.** Sempre consulte um profissional qualificado para tratar de casos específicos.\n"
     ]
    }
   ],
   "source": [
    "inputs = {\"question\": \"Vi uma placa com preço R$10 mas no caixa cobraram R$15. Tenho direito ao preço menor?\"}\n",
    "    \n",
    "print(\"\\n--- INICIANDO EXECUÇÃO DO GRAFO (COM SELF-CHECK) ---\")\n",
    "\n",
    "final_aggregated_state = {}\n",
    "\n",
    "for output in graph.stream(inputs):\n",
    "\n",
    "    node_name, patch = list(output.items())[0]\n",
    "    \n",
    "    print(f\"\\nNó '{node_name}' finalizado.\")\n",
    "    \n",
    "    final_aggregated_state.update(patch)\n",
    "    \n",
    "    if node_name == \"self_check\":\n",
    "        print(f\"--- VEREDITO DO SELF-CHECK: {patch['verdict'].verdict} ---\")\n",
    "        \n",
    "        \n",
    "# --- Fim do Grafo ---\n",
    "print(\"\\n--- EXECUÇÃO DO GRAFO CONCLUÍDA ---\")\n",
    "\n",
    "final_answer = final_aggregated_state.get(\"answer\", \"ERRO: Chave 'answer' não encontrada no estado final.\")\n",
    "\n",
    "print(\"\\n--- RESPOSTA FINAL (PÓS-VERIFICAÇÃO) ---\\n\")\n",
    "print(final_answer)\n"
   ]
  },
  {
   "cell_type": "markdown",
   "id": "838977d8",
   "metadata": {},
   "source": [
    "### Testando com um exemplo ruim"
   ]
  },
  {
   "cell_type": "code",
   "execution_count": 8,
   "id": "172cd775",
   "metadata": {},
   "outputs": [
    {
     "name": "stdout",
     "output_type": "stream",
     "text": [
      "--- EXECUTANDO NÓ: RETRIEVER ---\n",
      "--- EXECUTANDO NÓ: ANSWERER ---\n",
      "--- Utilizando o provedor de LLM: gemini | Modelo: gemini-2.5-flash ---\n",
      "--- EXECUTANDO NÓ: SELF-CHECK ---\n",
      "--- Utilizando o provedor de LLM: gemini | Modelo: gemini-2.5-flash ---\n",
      "--- VEREDITO DO SELF-CHECK: nao_fiel ---\n",
      "--- EXECUTANDO NÓ: FALHA (RESPOSTA NÃO FIEL) ---\n",
      "\n",
      "--- RESPOSTA FINAL (PÓS-VERIFICAÇÃO) ---\n",
      "\n",
      "Não consegui gerar uma resposta confiável com base nos documentos disponíveis. (Motivo da falha interna: A resposta afirma 'não encontrei informações sobre este tópico'. Esta é uma afirmação factual sobre o resultado da busca do modelo. No entanto, as regras de fidelidade exigem que 'todas as afirmações factuais na resposta estejam DIRETAMENTE E SEMANTICAMENTE suportadas por trechos nos documentos de evidência'. Os documentos de evidência fornecidos *contêm* diversas informações. A afirmação de que 'não encontrei informações' não é suportada por nenhum trecho dos documentos. Os documentos não contêm uma declaração de que não há informações sobre um tópico. Pelo contrário, eles contêm informações. Portanto, a afirmação do modelo não é fiel às evidências fornecidas, pois não pode ser diretamente verificada ou suportada por um trecho dos documentos. A resposta faz uma afirmação sobre a ausência de informação, que não é uma informação *presente* nos documentos para ser citada ou suportada por eles.)\n",
      "\n",
      "--- DADOS DE VERIFICAÇÃO ---\n",
      "Veredito: nao_fiel\n",
      "Motivo: A resposta afirma 'não encontrei informações sobre este tópico'. Esta é uma afirmação factual sobre o resultado da busca do modelo. No entanto, as regras de fidelidade exigem que 'todas as afirmações factuais na resposta estejam DIRETAMENTE E SEMANTICAMENTE suportadas por trechos nos documentos de evidência'. Os documentos de evidência fornecidos *contêm* diversas informações. A afirmação de que 'não encontrei informações' não é suportada por nenhum trecho dos documentos. Os documentos não contêm uma declaração de que não há informações sobre um tópico. Pelo contrário, eles contêm informações. Portanto, a afirmação do modelo não é fiel às evidências fornecidas, pois não pode ser diretamente verificada ou suportada por um trecho dos documentos. A resposta faz uma afirmação sobre a ausência de informação, que não é uma informação *presente* nos documentos para ser citada ou suportada por eles.\n"
     ]
    }
   ],
   "source": [
    "inputs = {\"question\": \"Quem foi michel jackson?\"}\n",
    "    \n",
    "final_state = graph.invoke(inputs)\n",
    "\n",
    "final_answer = final_state.get(\"answer\", \"ERRO: Chave 'answer' não encontrada no estado final.\")\n",
    "\n",
    "print(\"\\n--- RESPOSTA FINAL (PÓS-VERIFICAÇÃO) ---\\n\")\n",
    "print(final_answer)\n",
    "\n",
    "print(\"\\n--- DADOS DE VERIFICAÇÃO ---\")\n",
    "print(f\"Veredito: {final_state['verdict'].verdict}\")\n",
    "print(f\"Motivo: {final_state['verdict'].reasoning}\")"
   ]
  }
 ],
 "metadata": {
  "kernelspec": {
   "display_name": "dr-llama.env",
   "language": "python",
   "name": "python3"
  },
  "language_info": {
   "codemirror_mode": {
    "name": "ipython",
    "version": 3
   },
   "file_extension": ".py",
   "mimetype": "text/x-python",
   "name": "python",
   "nbconvert_exporter": "python",
   "pygments_lexer": "ipython3",
   "version": "3.12.9"
  }
 },
 "nbformat": 4,
 "nbformat_minor": 5
}
