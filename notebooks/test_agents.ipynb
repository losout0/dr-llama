{
 "cells": [
  {
   "cell_type": "markdown",
   "id": "2086739f",
   "metadata": {},
   "source": [
    "## **Testando os agentes de recuperação de documentos e geração de texto**"
   ]
  },
  {
   "cell_type": "markdown",
   "id": "2693d60a",
   "metadata": {},
   "source": [
    "### Importações necessárias"
   ]
  },
  {
   "cell_type": "code",
   "execution_count": 1,
   "id": "ca3d512c",
   "metadata": {},
   "outputs": [],
   "source": [
    "import sys\n",
    "import os\n",
    "\n",
    "from typing import List, TypedDict\n",
    "from langchain_core.documents import Document\n",
    "from langgraph.graph import StateGraph, END\n",
    "\n",
    "sys.path.append(os.path.abspath(os.path.join(os.getcwd(), \"..\")))\n",
    "from src import retriever_agent, generate_answer"
   ]
  },
  {
   "cell_type": "markdown",
   "id": "6e883e13",
   "metadata": {},
   "source": [
    "### Recuperando documentos a partir de um prompt"
   ]
  },
  {
   "cell_type": "code",
   "execution_count": 2,
   "id": "ce85f1a1",
   "metadata": {},
   "outputs": [
    {
     "name": "stdout",
     "output_type": "stream",
     "text": [
      "[Document(id='92e4a2f8-f82d-4789-9c4c-c700c709b09b', metadata={'producer': 'Adobe PDF Library 10.0.1', 'creator': 'Adobe InDesign CS6 (Windows)', 'creationdate': '2017-10-18T12:07:27-02:00', 'moddate': '2017-10-18T12:20:15-02:00', 'trapped': '/False', 'source': 'data\\\\raw\\\\codigo_defesa_consumidor.pdf', 'total_pages': 135, 'page': 51, 'page_label': '50'}, page_content='§ 2o O cadastro será divulgado anualmen -\\nte, podendo o órgão responsável fazê-lo em \\nperíodo menor, sempre que julgue necessá -\\nrio, e conterá informações objetivas, claras e \\nverdadeiras sobre o objeto da reclamação, a \\nidentificação do fornecedor e o atendimento \\nou não da reclamação pelo fornecedor.\\n§ 3o Os cadastros deverão ser atualizados \\npermanentemente, por meio das devidas \\nanotações, não podendo conter informações \\nnegativas sobre fornecedores, referentes a pe -\\nríodo superior a cinco anos, contado da data \\nda intimação da decisão definitiva.\\nArt. 60.  Os cadastros de reclamações funda -\\nmentadas contra fornecedores são conside -\\nrados arquivos públicos, sendo informações \\ne fontes a todos acessíveis, gratuitamente, \\nvedada a utilização abusiva ou, por qualquer \\noutro modo, estranha à defesa e orientação \\ndos consumidores, ressalvada a hipótese de \\npublicidade comparativa.\\nArt. 61.  O consumidor ou fornecedor poderá \\nrequerer, em cinco dias a contar da divulgação'), Document(id='64e89678-d844-4b9d-9e67-f1b4b546a4a9', metadata={'producer': 'Adobe PDF Library 10.0.1', 'creator': 'Adobe InDesign CS6 (Windows)', 'creationdate': '2017-10-18T12:07:27-02:00', 'moddate': '2017-10-18T12:20:15-02:00', 'trapped': '/False', 'source': 'data\\\\raw\\\\codigo_defesa_consumidor.pdf', 'total_pages': 135, 'page': 15, 'page_label': '14'}, page_content='Art. 14.  O fornecedor de serviços responde, \\nindependentemente da existência de culpa, pela \\nreparação dos danos causados aos consumido-\\nres por defeitos relativos à prestação dos servi-\\nços, bem como por informações insuficientes \\nou inadequadas sobre sua fruição e riscos.'), Document(id='af59b9ad-2d60-4be8-a3a3-9be1e0b2c47c', metadata={'producer': 'Adobe PDF Library 10.0.1', 'creator': 'Adobe InDesign CS6 (Windows)', 'creationdate': '2017-10-18T12:07:27-02:00', 'moddate': '2017-10-18T12:20:15-02:00', 'trapped': '/False', 'source': 'data\\\\raw\\\\codigo_defesa_consumidor.pdf', 'total_pages': 135, 'page': 71, 'page_label': '70'}, page_content='IV – proceder à apuração da liquidez dos \\ncréditos do Cade, inscrevendo-os em dívida \\nativa para fins de cobrança administrativa ou \\njudicial;\\nV – tomar as medidas judiciais solicitadas \\npelo Tribunal ou pela Superintendência-Geral, \\nnecessárias à cessação de infrações da ordem \\neconômica ou à obtenção de documentos para \\na instrução de processos administrativos de \\nqualquer natureza;\\nVI – promover acordos judiciais nos pro -\\ncessos relativos a infrações contra a ordem \\neconômica, mediante autorização do Tribunal;\\nVII – emitir, sempre que solicitado expressa-\\nmente por Conselheiro ou pelo Superintenden-\\nte-Geral, parecer nos processos de competência \\ndo Cade, sem que tal determinação implique \\na suspensão do prazo de análise ou prejuízo à \\ntramitação normal do processo;\\nVIII – zelar pelo cumprimento desta Lei; e\\nIX – desincumbir-se das demais tarefas que \\nlhe sejam atribuídas pelo regimento interno.\\nParágrafo único. Compete à Procuradoria \\nFederal junto ao Cade, ao dar execução judi -'), Document(id='e647e090-3b28-443a-b45b-4da5c8359494', metadata={'producer': 'Adobe PDF Library 10.0.1', 'creator': 'Adobe InDesign CS6 (Windows)', 'creationdate': '2017-10-18T12:07:27-02:00', 'moddate': '2017-10-18T12:20:15-02:00', 'trapped': '/False', 'source': 'data\\\\raw\\\\codigo_defesa_consumidor.pdf', 'total_pages': 135, 'page': 32, 'page_label': '31'}, page_content='seguintes informações:\\nI – nome empresarial e número de inscrição \\ndo fornecedor, quando houver, no Cadastro \\nNacional de Pessoas Físicas ou no Cadastro \\nNacional de Pessoas Jurídicas do Ministério \\nda Fazenda;\\nII – endereço físico e eletrônico, e demais \\ninformações necessárias para sua localização \\ne contato;\\nIII – características essenciais do produto \\nou do serviço, incluídos os riscos à saúde e à \\nsegurança dos consumidores;\\nIV – discriminação, no preço, de quaisquer \\ndespesas adicionais ou acessórias, tais como as \\nde entrega ou seguros;\\nV – condições integrais da oferta, incluídas \\nmodalidades de pagamento, disponibilidade, \\nforma e prazo da execução do serviço ou da \\nentrega ou disponibilização do produto; e\\nVI – informações claras e ostensivas a respei-\\nto de quaisquer restrições à fruição da oferta.\\nArt. 3 o Os sítios eletrônicos ou demais meios \\neletrônicos utilizados para ofertas de compras \\ncoletivas ou modalidades análogas de contra -')]\n"
     ]
    }
   ],
   "source": [
    "print(retriever_agent.get_relevant_documents(\"Quais são os direitos básicos do fornecedor?\"))"
   ]
  },
  {
   "cell_type": "code",
   "execution_count": 4,
   "id": "cb30f941",
   "metadata": {},
   "outputs": [
    {
     "name": "stdout",
     "output_type": "stream",
     "text": [
      "[Document(id='0371489c-ea03-4ca6-85aa-73ff15e01f52', metadata={'producer': 'Adobe PDF Library 10.0.1', 'creator': 'Adobe InDesign CS6 (Windows)', 'creationdate': '2017-10-18T12:07:27-02:00', 'moddate': '2017-10-18T12:20:15-02:00', 'trapped': '/False', 'source': 'data\\\\raw\\\\codigo_defesa_consumidor.pdf', 'total_pages': 135, 'page': 103, 'page_label': '102'}, page_content='para a cobertura dos casos de urgência e \\nemergência;\\nVI – reembolso, em todos os tipos de pro -\\ndutos de que tratam o inciso I e o §\\xa01o do art.\\xa01o \\ndesta Lei, nos limites das obrigações contra -\\ntuais, das despesas efetuadas pelo beneficiário \\ncom assistência à saúde, em casos de urgência \\nou emergência, quando não for possível a \\nutilização dos serviços próprios, contratados, \\ncredenciados ou referenciados pelas opera -\\ndoras, de acordo com a relação de preços de \\nserviços médicos e hospitalares praticados pelo \\nrespectivo produto, pagáveis no prazo máximo \\nde trinta dias após a entrega da documentação \\nadequada;\\nVII – inscrição de filho adotivo, menor de \\ndoze anos de idade, aproveitando os períodos \\nde carência já cumpridos pelo consumidor \\nadotante.\\n§ 1o Após cento e vinte dias da vigência des-\\nta Lei, fica proibido o oferecimento de produtos \\nde que tratam o inciso I e o §\\xa01o do art.\\xa01o desta \\nLei fora das segmentações de que trata este'), Document(id='16a1f539-33b4-4e79-a2a3-701104199816', metadata={'producer': 'Adobe PDF Library 17.0', 'creator': 'Adobe InDesign 19.5 (Windows)', 'creationdate': '2025-04-01T09:42:42-03:00', 'author': 'Senado Federal', 'moddate': '2025-04-01T09:54:25-03:00', 'title': 'Constituição da República Federativa do Brasil', 'trapped': '/False', 'source': 'data\\\\raw\\\\constituicao_federal.pdf', 'total_pages': 189, 'page': 174, 'page_label': '175'}, page_content='no trigésimo dia a partir da data em que esse Estado \\nou organização tenha depositado seu instrumento de \\nratificação, confirmação formal ou adesão.\\nArtigo 46 – Reservas\\n1. Não serão permitidas reservas incompatíveis com o \\nobjeto e o propósito da presente Convenção.\\n2. As reservas poderão ser retiradas a qualquer \\nmomento.'), Document(id='c04607a0-0bdb-4b61-b558-969defe15364', metadata={'producer': 'Adobe PDF Library 10.0.1', 'creator': 'Adobe InDesign CS6 (Windows)', 'creationdate': '2017-10-18T12:07:27-02:00', 'moddate': '2017-10-18T12:20:15-02:00', 'trapped': '/False', 'source': 'data\\\\raw\\\\codigo_defesa_consumidor.pdf', 'total_pages': 135, 'page': 113, 'page_label': '112'}, page_content='permita atingir o reajuste integral no início do \\núltimo ano da faixa etária considerada;\\nII – para aplicação da fórmula de diluição, \\nconsideram-se de dez anos as faixas etárias que \\ntenham sido estipuladas sem limite superior;\\nIII – a nova cláusula, contendo a fórmula de \\naplicação do reajuste, deverá ser encaminhada \\naos consumidores, juntamente com o boleto \\nou título de cobrança, com a demonstração \\ndo valor originalmente contratado, do valor \\nrepactuado e do percentual de reajuste anual \\nfixo, esclarecendo, ainda, que o seu pagamento \\nformalizará esta repactuação;'), Document(id='0c9f2323-af2a-4b91-beff-3bc02e27ad9d', metadata={'producer': 'Adobe PDF Library 10.0.1', 'creator': 'Adobe InDesign CS6 (Windows)', 'creationdate': '2017-10-18T12:07:27-02:00', 'moddate': '2017-10-18T12:20:15-02:00', 'trapped': '/False', 'source': 'data\\\\raw\\\\codigo_defesa_consumidor.pdf', 'total_pages': 135, 'page': 81, 'page_label': '80'}, page_content='serem produzidas; ou\\nIII – não conhecerá do recurso, determinan-\\ndo o seu arquivamento.\\n§ 2o As requerentes poderão manifestar-se \\nacerca do recurso interposto, em até 5 (cinco) \\ndias úteis do conhecimento do recurso no Tri-\\nbunal ou da data do recebimento do relatório \\ncom a conclusão da instrução complementar \\nelaborada pela Superintendência-Geral, o que \\nocorrer por último.\\n§ 3o O litigante de má-fé arcará com mul -\\nta, em favor do Fundo de Defesa de Direitos \\nDifusos, a ser arbitrada pelo Tribunal entre \\nR$\\xa05.000,00 (cinco mil reais) e R$ 5.000.000,00 \\n(cinco milhões de reais), levando-se em consi-\\nderação sua condição econômica, sua atuação \\nno processo e o retardamento injustificado \\ncausado à aprovação do ato.\\n§ 4o A interposição do recurso a que se re-\\nfere o caput deste artigo ou a decisão de avocar \\nsuspende a execução do ato de concentração \\neconômica até decisão final do Tribunal.\\n§ 5o O Conselheiro-Relator poderá acom -\\npanhar a realização das diligências referidas')]\n"
     ]
    }
   ],
   "source": [
    "print(retriever_agent.get_relevant_documents(\"Reembolso\"))"
   ]
  },
  {
   "cell_type": "markdown",
   "id": "9c466946",
   "metadata": {},
   "source": [
    "### Gerando uma resposta a partir dos documentos"
   ]
  },
  {
   "cell_type": "code",
   "execution_count": 2,
   "id": "82848b20",
   "metadata": {},
   "outputs": [
    {
     "name": "stdout",
     "output_type": "stream",
     "text": [
      "--- Utilizando o provedor de LLM: ollama | Modelo: llama3.2:1b ---\n",
      "Com base nos documentos fornecidos, não encontrei informações sobre a questão específica que você mencionou, \"Quero fabricar um avião\". No entanto, posso fornecer algumas informações relevantes sobre a legislação brasileira em relação à responsabilidade civil e ao direito de fabricação.\n",
      "\n",
      "O artigo 12 da Lei nº 10.826/2003, que é o texto atualizado da Lei de Responsabilidade Civil, estabelece que os fabricantes, produtores, construtores, importadores e fornecedores de produtos ou serviços devem assegurar a reparação dos danos causados aos consumidores por defeitos decorrentes de projetos, fabricações, construções, montagens, fórmulas, manipulação, apresentação ou acondomento de seus produtos.\n",
      "\n",
      "Além disso, o artigo 33 da Lei nº 10.826/2003 estabelece que em caso de oferta ou venda por telefone ou reembolso postal, deve constar o nome do fabricante e endereço na embalagem, publicidade e em todos os impressos utilizados na transação comercial.\n",
      "\n",
      "Outro artigo importante é o artigo 35, que estabelece que se o fornecedor de produtos ou serviços recusar cumprimento à oferta, apresentação ou venda, a responsabilidade pode ser transferida para outro profissional, desde que haja colocado o produto no mercado e não haja culpa exclusiva do consumidor.\n",
      "\n",
      "Além disso, o artigo 14 da Lei nº 10.826/2003 estabelece que o fornecedor de serviços responde independentemente da existência de culpa pela reparação dos danos causados aos consumidos em separado.\n",
      "\n",
      "Em relação à responsabilidade civil por fabricação, é importante notar que a responsabilidade pode ser transferida para outro profissional se houver colocado o produto no mercado e não houver culpa exclusiva do consumidor. Além disso, a responsabilidade pode ser transferida se houver colocado o produto em circulação e não houver culpa exclusiva do consumidor.\n",
      "\n",
      "Em resumo, embora não encontrei informações específicas sobre a fabricação de um avião, é importante lembrar que a responsabilidade civil em relação à fabricação de produtos pode ser complexa e depende de vários fatores. É recomendável consultar um advogado especializado em direito de responsabilidade civil para obter orientação mais precisa sobre a questão específica.\n"
     ]
    }
   ],
   "source": [
    "prompt = \"Quero fabricar um avião\"\n",
    "retrieved_docs = retriever_agent.get_relevant_documents(question=prompt)\n",
    "\n",
    "response = generate_answer(question=prompt, documents=retrieved_docs)\n",
    "\n",
    "print(response)"
   ]
  },
  {
   "cell_type": "markdown",
   "id": "ff1979fc",
   "metadata": {},
   "source": [
    "### Criando o grafo da aplicação"
   ]
  },
  {
   "cell_type": "code",
   "execution_count": 8,
   "id": "75dc9578",
   "metadata": {},
   "outputs": [],
   "source": [
    "from IPython.display import Image, display\n",
    "\n",
    "class GraphState(TypedDict):\n",
    "    question: str\n",
    "    documents: List[Document]\n",
    "    answer: str\n",
    "    \n",
    "# --- NÓS DO GRAFO ---\n",
    "\n",
    "def retrieve_node(state: GraphState):\n",
    "    \"\"\"\n",
    "    Nó que executa o agente Retriever.\n",
    "    Pega a 'question' do estado e atualiza o estado com os 'documents'.\n",
    "    \"\"\"\n",
    "    question = state[\"question\"]\n",
    "    documents = retriever_agent.get_relevant_documents(question)\n",
    "    return {\"documents\": documents}\n",
    "\n",
    "def answer_node(state: GraphState):\n",
    "    \"\"\"\n",
    "    Nó que executa o agente Answerer.\n",
    "    Pega a 'question' e os 'documents' do estado e atualiza o estado com a 'answer'.\n",
    "    \"\"\"\n",
    "    question = state[\"question\"]\n",
    "    documents = state[\"documents\"]\n",
    "    answer = generate_answer(question, documents)\n",
    "    return {\"answer\": answer}\n",
    "\n",
    "# --- CONSTRUÇÃO DO GRAFO ---\n",
    "\n",
    "def build_graph():\n",
    "    \"\"\"\n",
    "    Constrói o grafo LangGraph conectando os nós.\n",
    "    \"\"\"\n",
    "    workflow = StateGraph(GraphState)\n",
    "\n",
    "    # Adiciona os nós ao grafo\n",
    "    workflow.add_node(\"retriever\", retrieve_node)\n",
    "    workflow.add_node(\"answerer\", answer_node)\n",
    "\n",
    "    # Define as arestas (o fluxo)\n",
    "    workflow.set_entry_point(\"retriever\") # O ponto de partida é o retriever\n",
    "    workflow.add_edge(\"retriever\", \"answerer\") # Depois do retriever, vá para o answerer\n",
    "    workflow.add_edge(\"answerer\", END) # Depois do answerer, o fluxo termina\n",
    "\n",
    "    # Compila o grafo em um objeto executável\n",
    "    app = workflow.compile()\n",
    "    return app"
   ]
  },
  {
   "cell_type": "code",
   "execution_count": 9,
   "id": "516b1493",
   "metadata": {},
   "outputs": [
    {
     "data": {
      "image/png": "[encoded data removed]",
      "text/plain": [
       "<IPython.core.display.Image object>"
      ]
     },
     "metadata": {},
     "output_type": "display_data"
    },
    {
     "name": "stdout",
     "output_type": "stream",
     "text": [
      "Nó 'retriever' finalizado.\n",
      "--- Utilizando o provedor de LLM: ollama | Modelo: llama3.2:1b ---\n",
      "Nó 'answerer' finalizado.\n",
      "--- Utilizando o provedor de LLM: ollama | Modelo: llama3.2:1b ---\n",
      "\n",
      "--- RESPOSTA FINAL ---\n",
      "\n",
      "Com base nos documentos fornecidos, não encontrei informações sobre os direitos específicos mencionados na pergunta. No entanto, podemos identificar alguns direitos fundamentais do consumidor que estão abordados no texto:\n",
      "\n",
      "1.  Direito à proteção contra práticas nocivas: Artigo 6º do Código de Defesa do Consumidor estabelece que o consumidor tem direito a ser protegido contra práticas nocivas, como publicidade enganaosa e abusiva.\n",
      "2.  Direito à informação adequada e clara sobre produtos e serviços: Artigo 3º do Código de Defesa do Consumidor estabelece que o consumidor tem direito a ser informado adequadamente e claramente sobre os produtos e serviços, incluindo informações sobre características, composição, qualidade, tributos incidentes e preço.\n",
      "3.  Direito à proteção contra riscos à saúde ou segurança: Artigo 6º do Código de Defesa do Consumidor estabelece que o consumidor tem direito a ser protegido contra riscos à saúde ou segurança, incluindo práticas perigosas ou nocivas.\n",
      "4.  Direito à educação e divulgação sobre produtos e serviços: Artigo 3º do Código de Defesa do Consumidor estabelece que o consumidor tem direito a ser educado e divulgado sobre os produtos e serviços, incluindo informações sobre liberdade de escolha e igualdade nas contratações.\n",
      "5.  Direito à proteção contra publicidade enganaosa: Artigo 6º do Código de Defesa do Consumidor estabelece que o consumidor tem direito a ser protegido contra publicidade enganaosa, métodos comerciais coercitivos ou desleais.\n",
      "\n",
      "Além disso, o texto também menciona os seguintes direitos:\n",
      "\n",
      "1.  Direito à transparência e harmonia das relações de consumo: Artigo 3º do Código de Defesa do Consumidor estabelece que o consumidor tem direito a ser tratado com transparência e harmonia nas relações de consumo.\n",
      "2.  Direito à proteção dos produtos e serviços com padrões adequados de qualidade, segurança, durabilidade e desempenho: Artigo 3º do Código de Defesa do Consumidor estabelece que o consumidor tem direito a ser protegido contra produtos e serviços perigosos ou nocivos.\n",
      "3.  Direito à educação e informação de fornecedores: Artigo 3º do Código de Defesa do Consumidor estabelece que o consumidor tem direito a ser educado e divulgado sobre os produtos e serviços, incluindo informações sobre liberdade de escolha e igualdade nas contratações.\n",
      "\n",
      "É importante notar que esses direitos são abordados em diferentes artigos do Código de Defesa do Consumidor, o que sugere que eles podem ser mais amplamente discutidos no futuro.\n"
     ]
    }
   ],
   "source": [
    "graph = build_graph()\n",
    "display(Image(graph.get_graph().draw_mermaid_png()))\n",
    "\n",
    "inputs = {\"question\": \"Quais são os direitos básicos do consumidor?\"}\n",
    "\n",
    "for output in graph.stream(inputs):\n",
    "    for key, value in output.items():\n",
    "        print(f\"Nó '{key}' finalizado.\")\n",
    "        # print(value) # Descomente para ver o conteúdo completo do estado\n",
    "        \n",
    "# O resultado final está no último valor do stream\n",
    "final_state = list(graph.stream(inputs))[-1]\n",
    "final_answer = final_state['answerer']['answer']\n",
    "\n",
    "print(\"\\n--- RESPOSTA FINAL ---\\n\")\n",
    "print(final_answer)"
   ]
  },
  {
   "cell_type": "code",
   "execution_count": null,
   "id": "24367cbf",
   "metadata": {},
   "outputs": [],
   "source": []
  }
 ],
 "metadata": {
  "kernelspec": {
   "display_name": "dr-llama.env",
   "language": "python",
   "name": "python3"
  },
  "language_info": {
   "codemirror_mode": {
    "name": "ipython",
    "version": 3
   },
   "file_extension": ".py",
   "mimetype": "text/x-python",
   "name": "python",
   "nbconvert_exporter": "python",
   "pygments_lexer": "ipython3",
   "version": "3.12.9"
  }
 },
 "nbformat": 4,
 "nbformat_minor": 5
}
